{
  "nbformat": 4,
  "nbformat_minor": 0,
  "metadata": {
    "colab": {
      "name": "Data Cleaning.ipynb",
      "provenance": [],
      "include_colab_link": true
    },
    "kernelspec": {
      "name": "python3",
      "display_name": "Python 3"
    }
  },
  "cells": [
    {
      "cell_type": "markdown",
      "metadata": {
        "id": "view-in-github",
        "colab_type": "text"
      },
      "source": [
        "<a href=\"https://colab.research.google.com/github/lydiandiba/data-science/blob/master/Data_Cleaning.ipynb\" target=\"_parent\"><img src=\"https://colab.research.google.com/assets/colab-badge.svg\" alt=\"Open In Colab\"/></a>"
      ]
    },
    {
      "cell_type": "code",
      "metadata": {
        "id": "EKLtDmldvgih",
        "colab_type": "code",
        "colab": {}
      },
      "source": [
        "import pandas as pd "
      ],
      "execution_count": 0,
      "outputs": []
    },
    {
      "cell_type": "code",
      "metadata": {
        "id": "zyNvRa5xy7NT",
        "colab_type": "code",
        "colab": {}
      },
      "source": [
        "df = pd.read_csv('2009_census_data_roofing_materials.csv')"
      ],
      "execution_count": 0,
      "outputs": []
    },
    {
      "cell_type": "code",
      "metadata": {
        "id": "Rzqo6lg3zLJj",
        "colab_type": "code",
        "colab": {
          "base_uri": "https://localhost:8080/",
          "height": 395
        },
        "outputId": "b74f9a6d-122b-4cba-9ec5-6b107be199b4"
      },
      "source": [
        "df.head() # Lets view the first five observations"
      ],
      "execution_count": 4,
      "outputs": [
        {
          "output_type": "execute_result",
          "data": {
            "text/html": [
              "<div>\n",
              "<style scoped>\n",
              "    .dataframe tbody tr th:only-of-type {\n",
              "        vertical-align: middle;\n",
              "    }\n",
              "\n",
              "    .dataframe tbody tr th {\n",
              "        vertical-align: top;\n",
              "    }\n",
              "\n",
              "    .dataframe thead th {\n",
              "        text-align: right;\n",
              "    }\n",
              "</style>\n",
              "<table border=\"1\" class=\"dataframe\">\n",
              "  <thead>\n",
              "    <tr style=\"text-align: right;\">\n",
              "      <th></th>\n",
              "      <th>District</th>\n",
              "      <th>rural/urban</th>\n",
              "      <th>%_of_Households_Corrugated_Iron_Sheets</th>\n",
              "      <th>%_of_Households_Tiles</th>\n",
              "      <th>%_of_Households_Concrete</th>\n",
              "      <th>Asbestos_%_of_Households_Sheets</th>\n",
              "      <th>%_of_Households_Grass</th>\n",
              "      <th>%_of_Households_Makuti</th>\n",
              "      <th>%_of_Households_Tin</th>\n",
              "      <th>%_of_Households_Mud/Dung</th>\n",
              "      <th>%_of_Households_Other</th>\n",
              "      <th>Households</th>\n",
              "      <th>No_Corrugated_Iron_Sheets</th>\n",
              "      <th>No_Tiles</th>\n",
              "      <th>No_Concrete</th>\n",
              "      <th>No_Asbestos_Sheets</th>\n",
              "      <th>No_Grass</th>\n",
              "      <th>No_Makuti</th>\n",
              "      <th>No_Tin</th>\n",
              "      <th>No_Mud/Dung</th>\n",
              "      <th>No_Other</th>\n",
              "      <th>County</th>\n",
              "      <th>MTEF</th>\n",
              "      <th>Location_1</th>\n",
              "      <th>Province</th>\n",
              "      <th>OBJECTID</th>\n",
              "    </tr>\n",
              "  </thead>\n",
              "  <tbody>\n",
              "    <tr>\n",
              "      <th>0</th>\n",
              "      <td>NYANDARUA NORTH</td>\n",
              "      <td>Urban</td>\n",
              "      <td>91.08%</td>\n",
              "      <td>0.62%</td>\n",
              "      <td>0.16%</td>\n",
              "      <td>1.46%</td>\n",
              "      <td>0.64%</td>\n",
              "      <td>0.03%</td>\n",
              "      <td>0.07%</td>\n",
              "      <td>0%</td>\n",
              "      <td>5.94%</td>\n",
              "      <td>23229</td>\n",
              "      <td>21156</td>\n",
              "      <td>144</td>\n",
              "      <td>38</td>\n",
              "      <td>338</td>\n",
              "      <td>148</td>\n",
              "      <td>7</td>\n",
              "      <td>17</td>\n",
              "      <td>1</td>\n",
              "      <td>1380</td>\n",
              "      <td>Nyandarua</td>\n",
              "      <td>Physical Infrastructure, Housing</td>\n",
              "      <td>NaN</td>\n",
              "      <td>CENTRAL</td>\n",
              "      <td>0</td>\n",
              "    </tr>\n",
              "    <tr>\n",
              "      <th>1</th>\n",
              "      <td>NYANDARUA SOUTH</td>\n",
              "      <td>Urban</td>\n",
              "      <td>95.38%</td>\n",
              "      <td>0.47%</td>\n",
              "      <td>2.6%</td>\n",
              "      <td>1.46%</td>\n",
              "      <td>0.06%</td>\n",
              "      <td>0%</td>\n",
              "      <td>0%</td>\n",
              "      <td>0.02%</td>\n",
              "      <td>0.02%</td>\n",
              "      <td>5345</td>\n",
              "      <td>5098</td>\n",
              "      <td>25</td>\n",
              "      <td>139</td>\n",
              "      <td>78</td>\n",
              "      <td>3</td>\n",
              "      <td>0</td>\n",
              "      <td>0</td>\n",
              "      <td>1</td>\n",
              "      <td>1</td>\n",
              "      <td>Nyandarua</td>\n",
              "      <td>Physical Infrastructure, Housing</td>\n",
              "      <td>NaN</td>\n",
              "      <td>CENTRAL</td>\n",
              "      <td>1</td>\n",
              "    </tr>\n",
              "    <tr>\n",
              "      <th>2</th>\n",
              "      <td>NYERI NORTH</td>\n",
              "      <td>Urban</td>\n",
              "      <td>90.28%</td>\n",
              "      <td>1.13%</td>\n",
              "      <td>5.21%</td>\n",
              "      <td>2.58%</td>\n",
              "      <td>0.49%</td>\n",
              "      <td>0.08%</td>\n",
              "      <td>0.2%</td>\n",
              "      <td>0.01%</td>\n",
              "      <td>0.01%</td>\n",
              "      <td>14208</td>\n",
              "      <td>12827</td>\n",
              "      <td>161</td>\n",
              "      <td>740</td>\n",
              "      <td>367</td>\n",
              "      <td>69</td>\n",
              "      <td>11</td>\n",
              "      <td>29</td>\n",
              "      <td>2</td>\n",
              "      <td>2</td>\n",
              "      <td>Nyeri</td>\n",
              "      <td>Physical Infrastructure, Housing</td>\n",
              "      <td>NaN</td>\n",
              "      <td>CENTRAL</td>\n",
              "      <td>2</td>\n",
              "    </tr>\n",
              "    <tr>\n",
              "      <th>3</th>\n",
              "      <td>NYERI SOUTH</td>\n",
              "      <td>Urban</td>\n",
              "      <td>90.89%</td>\n",
              "      <td>2.3%</td>\n",
              "      <td>3.32%</td>\n",
              "      <td>3.04%</td>\n",
              "      <td>0.09%</td>\n",
              "      <td>0.05%</td>\n",
              "      <td>0.14%</td>\n",
              "      <td>0.01%</td>\n",
              "      <td>0.17%</td>\n",
              "      <td>39927</td>\n",
              "      <td>36290</td>\n",
              "      <td>917</td>\n",
              "      <td>1325</td>\n",
              "      <td>1213</td>\n",
              "      <td>36</td>\n",
              "      <td>20</td>\n",
              "      <td>57</td>\n",
              "      <td>2</td>\n",
              "      <td>67</td>\n",
              "      <td>Nyeri</td>\n",
              "      <td>Physical Infrastructure, Housing</td>\n",
              "      <td>NaN</td>\n",
              "      <td>CENTRAL</td>\n",
              "      <td>3</td>\n",
              "    </tr>\n",
              "    <tr>\n",
              "      <th>4</th>\n",
              "      <td>KIRINYAGA</td>\n",
              "      <td>Urban</td>\n",
              "      <td>91.41%</td>\n",
              "      <td>0.87%</td>\n",
              "      <td>3.97%</td>\n",
              "      <td>3.5%</td>\n",
              "      <td>0.04%</td>\n",
              "      <td>0.01%</td>\n",
              "      <td>0.03%</td>\n",
              "      <td>0.01%</td>\n",
              "      <td>0.15%</td>\n",
              "      <td>27461</td>\n",
              "      <td>25103</td>\n",
              "      <td>239</td>\n",
              "      <td>1090</td>\n",
              "      <td>960</td>\n",
              "      <td>11</td>\n",
              "      <td>3</td>\n",
              "      <td>9</td>\n",
              "      <td>4</td>\n",
              "      <td>42</td>\n",
              "      <td>Kirinyaga</td>\n",
              "      <td>Physical Infrastructure, Housing</td>\n",
              "      <td>NaN</td>\n",
              "      <td>CENTRAL</td>\n",
              "      <td>4</td>\n",
              "    </tr>\n",
              "  </tbody>\n",
              "</table>\n",
              "</div>"
            ],
            "text/plain": [
              "          District rural/urban  ... Province OBJECTID\n",
              "0  NYANDARUA NORTH       Urban  ...  CENTRAL        0\n",
              "1  NYANDARUA SOUTH       Urban  ...  CENTRAL        1\n",
              "2      NYERI NORTH       Urban  ...  CENTRAL        2\n",
              "3      NYERI SOUTH       Urban  ...  CENTRAL        3\n",
              "4        KIRINYAGA       Urban  ...  CENTRAL        4\n",
              "\n",
              "[5 rows x 26 columns]"
            ]
          },
          "metadata": {
            "tags": []
          },
          "execution_count": 4
        }
      ]
    },
    {
      "cell_type": "code",
      "metadata": {
        "id": "UUwCgWg9zNcR",
        "colab_type": "code",
        "colab": {
          "base_uri": "https://localhost:8080/",
          "height": 395
        },
        "outputId": "69fac73a-4ad2-482d-8738-b277fed09176"
      },
      "source": [
        "df.tail()"
      ],
      "execution_count": 6,
      "outputs": [
        {
          "output_type": "execute_result",
          "data": {
            "text/html": [
              "<div>\n",
              "<style scoped>\n",
              "    .dataframe tbody tr th:only-of-type {\n",
              "        vertical-align: middle;\n",
              "    }\n",
              "\n",
              "    .dataframe tbody tr th {\n",
              "        vertical-align: top;\n",
              "    }\n",
              "\n",
              "    .dataframe thead th {\n",
              "        text-align: right;\n",
              "    }\n",
              "</style>\n",
              "<table border=\"1\" class=\"dataframe\">\n",
              "  <thead>\n",
              "    <tr style=\"text-align: right;\">\n",
              "      <th></th>\n",
              "      <th>District</th>\n",
              "      <th>rural/urban</th>\n",
              "      <th>%_of_Households_Corrugated_Iron_Sheets</th>\n",
              "      <th>%_of_Households_Tiles</th>\n",
              "      <th>%_of_Households_Concrete</th>\n",
              "      <th>Asbestos_%_of_Households_Sheets</th>\n",
              "      <th>%_of_Households_Grass</th>\n",
              "      <th>%_of_Households_Makuti</th>\n",
              "      <th>%_of_Households_Tin</th>\n",
              "      <th>%_of_Households_Mud/Dung</th>\n",
              "      <th>%_of_Households_Other</th>\n",
              "      <th>Households</th>\n",
              "      <th>No_Corrugated_Iron_Sheets</th>\n",
              "      <th>No_Tiles</th>\n",
              "      <th>No_Concrete</th>\n",
              "      <th>No_Asbestos_Sheets</th>\n",
              "      <th>No_Grass</th>\n",
              "      <th>No_Makuti</th>\n",
              "      <th>No_Tin</th>\n",
              "      <th>No_Mud/Dung</th>\n",
              "      <th>No_Other</th>\n",
              "      <th>County</th>\n",
              "      <th>MTEF</th>\n",
              "      <th>Location_1</th>\n",
              "      <th>Province</th>\n",
              "      <th>OBJECTID</th>\n",
              "    </tr>\n",
              "  </thead>\n",
              "  <tbody>\n",
              "    <tr>\n",
              "      <th>310</th>\n",
              "      <td>BUSIA</td>\n",
              "      <td>Rural</td>\n",
              "      <td>49.66%</td>\n",
              "      <td>0.46%</td>\n",
              "      <td>0.03%</td>\n",
              "      <td>2.15%</td>\n",
              "      <td>47.44%</td>\n",
              "      <td>0.08%</td>\n",
              "      <td>0.13%</td>\n",
              "      <td>0.03%</td>\n",
              "      <td>0.02%</td>\n",
              "      <td>58208</td>\n",
              "      <td>28909</td>\n",
              "      <td>265</td>\n",
              "      <td>20</td>\n",
              "      <td>1253</td>\n",
              "      <td>27611</td>\n",
              "      <td>48</td>\n",
              "      <td>78</td>\n",
              "      <td>15</td>\n",
              "      <td>9</td>\n",
              "      <td>Busia</td>\n",
              "      <td>Physical Infrastructure, Housing</td>\n",
              "      <td>NaN</td>\n",
              "      <td>WESTERN</td>\n",
              "      <td>310</td>\n",
              "    </tr>\n",
              "    <tr>\n",
              "      <th>311</th>\n",
              "      <td>TESO NORTH</td>\n",
              "      <td>Rural</td>\n",
              "      <td>29.2%</td>\n",
              "      <td>0.42%</td>\n",
              "      <td>0.03%</td>\n",
              "      <td>1.22%</td>\n",
              "      <td>69.07%</td>\n",
              "      <td>0.04%</td>\n",
              "      <td>0.01%</td>\n",
              "      <td>0.01%</td>\n",
              "      <td>0%</td>\n",
              "      <td>13490</td>\n",
              "      <td>3939</td>\n",
              "      <td>57</td>\n",
              "      <td>4</td>\n",
              "      <td>165</td>\n",
              "      <td>9317</td>\n",
              "      <td>5</td>\n",
              "      <td>1</td>\n",
              "      <td>2</td>\n",
              "      <td>0</td>\n",
              "      <td>Busia</td>\n",
              "      <td>Physical Infrastructure, Housing</td>\n",
              "      <td>NaN</td>\n",
              "      <td>WESTERN</td>\n",
              "      <td>311</td>\n",
              "    </tr>\n",
              "    <tr>\n",
              "      <th>312</th>\n",
              "      <td>SAMIA</td>\n",
              "      <td>Rural</td>\n",
              "      <td>52.69%</td>\n",
              "      <td>0.72%</td>\n",
              "      <td>0.05%</td>\n",
              "      <td>2.01%</td>\n",
              "      <td>44.16%</td>\n",
              "      <td>0.22%</td>\n",
              "      <td>0.02%</td>\n",
              "      <td>0.04%</td>\n",
              "      <td>0.08%</td>\n",
              "      <td>19385</td>\n",
              "      <td>10214</td>\n",
              "      <td>139</td>\n",
              "      <td>10</td>\n",
              "      <td>390</td>\n",
              "      <td>8561</td>\n",
              "      <td>43</td>\n",
              "      <td>4</td>\n",
              "      <td>8</td>\n",
              "      <td>16</td>\n",
              "      <td>Busia</td>\n",
              "      <td>Physical Infrastructure, Housing</td>\n",
              "      <td>NaN</td>\n",
              "      <td>WESTERN</td>\n",
              "      <td>312</td>\n",
              "    </tr>\n",
              "    <tr>\n",
              "      <th>313</th>\n",
              "      <td>BUNYALA</td>\n",
              "      <td>Rural</td>\n",
              "      <td>58.22%</td>\n",
              "      <td>0.5%</td>\n",
              "      <td>0.04%</td>\n",
              "      <td>1.63%</td>\n",
              "      <td>38.5%</td>\n",
              "      <td>0.15%</td>\n",
              "      <td>0.07%</td>\n",
              "      <td>0.01%</td>\n",
              "      <td>0.89%</td>\n",
              "      <td>13535</td>\n",
              "      <td>7880</td>\n",
              "      <td>67</td>\n",
              "      <td>5</td>\n",
              "      <td>221</td>\n",
              "      <td>5211</td>\n",
              "      <td>20</td>\n",
              "      <td>9</td>\n",
              "      <td>2</td>\n",
              "      <td>120</td>\n",
              "      <td>Busia</td>\n",
              "      <td>Physical Infrastructure, Housing</td>\n",
              "      <td>NaN</td>\n",
              "      <td>WESTERN</td>\n",
              "      <td>313</td>\n",
              "    </tr>\n",
              "    <tr>\n",
              "      <th>314</th>\n",
              "      <td>TESO SOUTH</td>\n",
              "      <td>Rural</td>\n",
              "      <td>25.44%</td>\n",
              "      <td>0.36%</td>\n",
              "      <td>0.03%</td>\n",
              "      <td>0.66%</td>\n",
              "      <td>73.39%</td>\n",
              "      <td>0.07%</td>\n",
              "      <td>0.02%</td>\n",
              "      <td>0.01%</td>\n",
              "      <td>0.02%</td>\n",
              "      <td>21344</td>\n",
              "      <td>5429</td>\n",
              "      <td>77</td>\n",
              "      <td>6</td>\n",
              "      <td>141</td>\n",
              "      <td>15664</td>\n",
              "      <td>16</td>\n",
              "      <td>4</td>\n",
              "      <td>3</td>\n",
              "      <td>4</td>\n",
              "      <td>Busia</td>\n",
              "      <td>Physical Infrastructure, Housing</td>\n",
              "      <td>NaN</td>\n",
              "      <td>WESTERN</td>\n",
              "      <td>314</td>\n",
              "    </tr>\n",
              "  </tbody>\n",
              "</table>\n",
              "</div>"
            ],
            "text/plain": [
              "       District rural/urban  ... Province OBJECTID\n",
              "310       BUSIA       Rural  ...  WESTERN      310\n",
              "311  TESO NORTH       Rural  ...  WESTERN      311\n",
              "312       SAMIA       Rural  ...  WESTERN      312\n",
              "313     BUNYALA       Rural  ...  WESTERN      313\n",
              "314  TESO SOUTH       Rural  ...  WESTERN      314\n",
              "\n",
              "[5 rows x 26 columns]"
            ]
          },
          "metadata": {
            "tags": []
          },
          "execution_count": 6
        }
      ]
    },
    {
      "cell_type": "code",
      "metadata": {
        "id": "W3EvTBGo1ARn",
        "colab_type": "code",
        "colab": {
          "base_uri": "https://localhost:8080/",
          "height": 173
        },
        "outputId": "954fec34-5b3d-4ac0-fdd6-6982226120d5"
      },
      "source": [
        "df.columns"
      ],
      "execution_count": 9,
      "outputs": [
        {
          "output_type": "execute_result",
          "data": {
            "text/plain": [
              "Index(['District', 'rural/urban', '%_of_Households_Corrugated_Iron_Sheets',\n",
              "       '%_of_Households_Tiles', '%_of_Households_Concrete',\n",
              "       'Asbestos_%_of_Households_Sheets', '%_of_Households_Grass',\n",
              "       '%_of_Households_Makuti', '%_of_Households_Tin',\n",
              "       '%_of_Households_Mud/Dung', '%_of_Households_Other', 'Households',\n",
              "       'No_Corrugated_Iron_Sheets', 'No_Tiles', 'No_Concrete',\n",
              "       'No_Asbestos_Sheets', 'No_Grass', 'No_Makuti', 'No_Tin', 'No_Mud/Dung',\n",
              "       'No_Other', 'County', 'MTEF', 'Location_1', 'Province', 'OBJECTID'],\n",
              "      dtype='object')"
            ]
          },
          "metadata": {
            "tags": []
          },
          "execution_count": 9
        }
      ]
    },
    {
      "cell_type": "code",
      "metadata": {
        "id": "tEkhfshK1FUY",
        "colab_type": "code",
        "colab": {
          "base_uri": "https://localhost:8080/",
          "height": 134
        },
        "outputId": "9deaaf7c-2d68-4413-f4a1-b963250adc75"
      },
      "source": [
        "df.iloc[200:201, :]"
      ],
      "execution_count": 11,
      "outputs": [
        {
          "output_type": "execute_result",
          "data": {
            "text/html": [
              "<div>\n",
              "<style scoped>\n",
              "    .dataframe tbody tr th:only-of-type {\n",
              "        vertical-align: middle;\n",
              "    }\n",
              "\n",
              "    .dataframe tbody tr th {\n",
              "        vertical-align: top;\n",
              "    }\n",
              "\n",
              "    .dataframe thead th {\n",
              "        text-align: right;\n",
              "    }\n",
              "</style>\n",
              "<table border=\"1\" class=\"dataframe\">\n",
              "  <thead>\n",
              "    <tr style=\"text-align: right;\">\n",
              "      <th></th>\n",
              "      <th>District</th>\n",
              "      <th>rural/urban</th>\n",
              "      <th>%_of_Households_Corrugated_Iron_Sheets</th>\n",
              "      <th>%_of_Households_Tiles</th>\n",
              "      <th>%_of_Households_Concrete</th>\n",
              "      <th>Asbestos_%_of_Households_Sheets</th>\n",
              "      <th>%_of_Households_Grass</th>\n",
              "      <th>%_of_Households_Makuti</th>\n",
              "      <th>%_of_Households_Tin</th>\n",
              "      <th>%_of_Households_Mud/Dung</th>\n",
              "      <th>%_of_Households_Other</th>\n",
              "      <th>Households</th>\n",
              "      <th>No_Corrugated_Iron_Sheets</th>\n",
              "      <th>No_Tiles</th>\n",
              "      <th>No_Concrete</th>\n",
              "      <th>No_Asbestos_Sheets</th>\n",
              "      <th>No_Grass</th>\n",
              "      <th>No_Makuti</th>\n",
              "      <th>No_Tin</th>\n",
              "      <th>No_Mud/Dung</th>\n",
              "      <th>No_Other</th>\n",
              "      <th>County</th>\n",
              "      <th>MTEF</th>\n",
              "      <th>Location_1</th>\n",
              "      <th>Province</th>\n",
              "      <th>OBJECTID</th>\n",
              "    </tr>\n",
              "  </thead>\n",
              "  <tbody>\n",
              "    <tr>\n",
              "      <th>200</th>\n",
              "      <td>BARINGO NORTH</td>\n",
              "      <td>Urban</td>\n",
              "      <td>NaN</td>\n",
              "      <td>NaN</td>\n",
              "      <td>NaN</td>\n",
              "      <td>NaN</td>\n",
              "      <td>NaN</td>\n",
              "      <td>NaN</td>\n",
              "      <td>NaN</td>\n",
              "      <td>NaN</td>\n",
              "      <td>NaN</td>\n",
              "      <td>0</td>\n",
              "      <td>0</td>\n",
              "      <td>0</td>\n",
              "      <td>0</td>\n",
              "      <td>0</td>\n",
              "      <td>0</td>\n",
              "      <td>0</td>\n",
              "      <td>0</td>\n",
              "      <td>0</td>\n",
              "      <td>0</td>\n",
              "      <td>Baringo</td>\n",
              "      <td>Physical Infrastructure, Housing</td>\n",
              "      <td>NaN</td>\n",
              "      <td>RIFT VALLEY</td>\n",
              "      <td>200</td>\n",
              "    </tr>\n",
              "  </tbody>\n",
              "</table>\n",
              "</div>"
            ],
            "text/plain": [
              "          District rural/urban  ...     Province OBJECTID\n",
              "200  BARINGO NORTH       Urban  ...  RIFT VALLEY      200\n",
              "\n",
              "[1 rows x 26 columns]"
            ]
          },
          "metadata": {
            "tags": []
          },
          "execution_count": 11
        }
      ]
    },
    {
      "cell_type": "code",
      "metadata": {
        "id": "wX1oiOpR1voe",
        "colab_type": "code",
        "colab": {
          "base_uri": "https://localhost:8080/",
          "height": 171
        },
        "outputId": "0186b081-11b1-4b4b-ba29-f9a1ce54d943"
      },
      "source": [
        "df.iloc[100:104,3:6]"
      ],
      "execution_count": 12,
      "outputs": [
        {
          "output_type": "execute_result",
          "data": {
            "text/html": [
              "<div>\n",
              "<style scoped>\n",
              "    .dataframe tbody tr th:only-of-type {\n",
              "        vertical-align: middle;\n",
              "    }\n",
              "\n",
              "    .dataframe tbody tr th {\n",
              "        vertical-align: top;\n",
              "    }\n",
              "\n",
              "    .dataframe thead th {\n",
              "        text-align: right;\n",
              "    }\n",
              "</style>\n",
              "<table border=\"1\" class=\"dataframe\">\n",
              "  <thead>\n",
              "    <tr style=\"text-align: right;\">\n",
              "      <th></th>\n",
              "      <th>%_of_Households_Tiles</th>\n",
              "      <th>%_of_Households_Concrete</th>\n",
              "      <th>Asbestos_%_of_Households_Sheets</th>\n",
              "    </tr>\n",
              "  </thead>\n",
              "  <tbody>\n",
              "    <tr>\n",
              "      <th>100</th>\n",
              "      <td>0.85%</td>\n",
              "      <td>0.03%</td>\n",
              "      <td>3.22%</td>\n",
              "    </tr>\n",
              "    <tr>\n",
              "      <th>101</th>\n",
              "      <td>0.56%</td>\n",
              "      <td>0.03%</td>\n",
              "      <td>3.11%</td>\n",
              "    </tr>\n",
              "    <tr>\n",
              "      <th>102</th>\n",
              "      <td>0.74%</td>\n",
              "      <td>0.05%</td>\n",
              "      <td>2.39%</td>\n",
              "    </tr>\n",
              "    <tr>\n",
              "      <th>103</th>\n",
              "      <td>0.74%</td>\n",
              "      <td>0.16%</td>\n",
              "      <td>2.6%</td>\n",
              "    </tr>\n",
              "  </tbody>\n",
              "</table>\n",
              "</div>"
            ],
            "text/plain": [
              "    %_of_Households_Tiles  ... Asbestos_%_of_Households_Sheets\n",
              "100                 0.85%  ...                           3.22%\n",
              "101                 0.56%  ...                           3.11%\n",
              "102                 0.74%  ...                           2.39%\n",
              "103                 0.74%  ...                            2.6%\n",
              "\n",
              "[4 rows x 3 columns]"
            ]
          },
          "metadata": {
            "tags": []
          },
          "execution_count": 12
        }
      ]
    },
    {
      "cell_type": "code",
      "metadata": {
        "id": "cLWgKbhS2iDm",
        "colab_type": "code",
        "colab": {
          "base_uri": "https://localhost:8080/",
          "height": 202
        },
        "outputId": "342b5ecb-dfd3-4473-a806-d7f55de65706"
      },
      "source": [
        "df.iloc[:, 5:6].head() # viewing the first five observations in column 5\n",
        "    "
      ],
      "execution_count": 13,
      "outputs": [
        {
          "output_type": "execute_result",
          "data": {
            "text/html": [
              "<div>\n",
              "<style scoped>\n",
              "    .dataframe tbody tr th:only-of-type {\n",
              "        vertical-align: middle;\n",
              "    }\n",
              "\n",
              "    .dataframe tbody tr th {\n",
              "        vertical-align: top;\n",
              "    }\n",
              "\n",
              "    .dataframe thead th {\n",
              "        text-align: right;\n",
              "    }\n",
              "</style>\n",
              "<table border=\"1\" class=\"dataframe\">\n",
              "  <thead>\n",
              "    <tr style=\"text-align: right;\">\n",
              "      <th></th>\n",
              "      <th>Asbestos_%_of_Households_Sheets</th>\n",
              "    </tr>\n",
              "  </thead>\n",
              "  <tbody>\n",
              "    <tr>\n",
              "      <th>0</th>\n",
              "      <td>1.46%</td>\n",
              "    </tr>\n",
              "    <tr>\n",
              "      <th>1</th>\n",
              "      <td>1.46%</td>\n",
              "    </tr>\n",
              "    <tr>\n",
              "      <th>2</th>\n",
              "      <td>2.58%</td>\n",
              "    </tr>\n",
              "    <tr>\n",
              "      <th>3</th>\n",
              "      <td>3.04%</td>\n",
              "    </tr>\n",
              "    <tr>\n",
              "      <th>4</th>\n",
              "      <td>3.5%</td>\n",
              "    </tr>\n",
              "  </tbody>\n",
              "</table>\n",
              "</div>"
            ],
            "text/plain": [
              "  Asbestos_%_of_Households_Sheets\n",
              "0                           1.46%\n",
              "1                           1.46%\n",
              "2                           2.58%\n",
              "3                           3.04%\n",
              "4                            3.5%"
            ]
          },
          "metadata": {
            "tags": []
          },
          "execution_count": 13
        }
      ]
    },
    {
      "cell_type": "code",
      "metadata": {
        "id": "dhhqejCy3Woz",
        "colab_type": "code",
        "colab": {
          "base_uri": "https://localhost:8080/",
          "height": 202
        },
        "outputId": "bc7cd2a6-2d73-46c3-c144-b86f815e1d33"
      },
      "source": [
        "#last 5 oservations on column 7\n",
        "df.iloc[:, 7:8].tail()"
      ],
      "execution_count": 14,
      "outputs": [
        {
          "output_type": "execute_result",
          "data": {
            "text/html": [
              "<div>\n",
              "<style scoped>\n",
              "    .dataframe tbody tr th:only-of-type {\n",
              "        vertical-align: middle;\n",
              "    }\n",
              "\n",
              "    .dataframe tbody tr th {\n",
              "        vertical-align: top;\n",
              "    }\n",
              "\n",
              "    .dataframe thead th {\n",
              "        text-align: right;\n",
              "    }\n",
              "</style>\n",
              "<table border=\"1\" class=\"dataframe\">\n",
              "  <thead>\n",
              "    <tr style=\"text-align: right;\">\n",
              "      <th></th>\n",
              "      <th>%_of_Households_Makuti</th>\n",
              "    </tr>\n",
              "  </thead>\n",
              "  <tbody>\n",
              "    <tr>\n",
              "      <th>310</th>\n",
              "      <td>0.08%</td>\n",
              "    </tr>\n",
              "    <tr>\n",
              "      <th>311</th>\n",
              "      <td>0.04%</td>\n",
              "    </tr>\n",
              "    <tr>\n",
              "      <th>312</th>\n",
              "      <td>0.22%</td>\n",
              "    </tr>\n",
              "    <tr>\n",
              "      <th>313</th>\n",
              "      <td>0.15%</td>\n",
              "    </tr>\n",
              "    <tr>\n",
              "      <th>314</th>\n",
              "      <td>0.07%</td>\n",
              "    </tr>\n",
              "  </tbody>\n",
              "</table>\n",
              "</div>"
            ],
            "text/plain": [
              "    %_of_Households_Makuti\n",
              "310                  0.08%\n",
              "311                  0.04%\n",
              "312                  0.22%\n",
              "313                  0.15%\n",
              "314                  0.07%"
            ]
          },
          "metadata": {
            "tags": []
          },
          "execution_count": 14
        }
      ]
    },
    {
      "cell_type": "code",
      "metadata": {
        "id": "n4wDnRMh304L",
        "colab_type": "code",
        "colab": {
          "base_uri": "https://localhost:8080/",
          "height": 555
        },
        "outputId": "fdcdbc36-8752-4a73-f0bf-a0eac78cdd94"
      },
      "source": [
        "# knowing more about the dataset by accessing the information\n",
        "df.info()"
      ],
      "execution_count": 15,
      "outputs": [
        {
          "output_type": "stream",
          "text": [
            "<class 'pandas.core.frame.DataFrame'>\n",
            "RangeIndex: 315 entries, 0 to 314\n",
            "Data columns (total 26 columns):\n",
            "District                                  315 non-null object\n",
            "rural/urban                               315 non-null object\n",
            "%_of_Households_Corrugated_Iron_Sheets    290 non-null object\n",
            "%_of_Households_Tiles                     290 non-null object\n",
            "%_of_Households_Concrete                  290 non-null object\n",
            "Asbestos_%_of_Households_Sheets           290 non-null object\n",
            "%_of_Households_Grass                     290 non-null object\n",
            "%_of_Households_Makuti                    290 non-null object\n",
            "%_of_Households_Tin                       290 non-null object\n",
            "%_of_Households_Mud/Dung                  290 non-null object\n",
            "%_of_Households_Other                     290 non-null object\n",
            "Households                                315 non-null int64\n",
            "No_Corrugated_Iron_Sheets                 315 non-null int64\n",
            "No_Tiles                                  315 non-null int64\n",
            "No_Concrete                               315 non-null int64\n",
            "No_Asbestos_Sheets                        315 non-null int64\n",
            "No_Grass                                  315 non-null int64\n",
            "No_Makuti                                 315 non-null int64\n",
            "No_Tin                                    315 non-null int64\n",
            "No_Mud/Dung                               315 non-null int64\n",
            "No_Other                                  315 non-null int64\n",
            "County                                    315 non-null object\n",
            "MTEF                                      315 non-null object\n",
            "Location_1                                0 non-null float64\n",
            "Province                                  315 non-null object\n",
            "OBJECTID                                  315 non-null int64\n",
            "dtypes: float64(1), int64(11), object(14)\n",
            "memory usage: 64.1+ KB\n"
          ],
          "name": "stdout"
        }
      ]
    },
    {
      "cell_type": "markdown",
      "metadata": {
        "id": "GxY_owa-5M5P",
        "colab_type": "text"
      },
      "source": [
        ""
      ]
    },
    {
      "cell_type": "code",
      "metadata": {
        "id": "Epn8VLxB37nt",
        "colab_type": "code",
        "colab": {
          "base_uri": "https://localhost:8080/",
          "height": 485
        },
        "outputId": "0c051896-6345-4c47-d3b8-495b83412c8b"
      },
      "source": [
        "# checking for data types\n",
        "df.dtypes"
      ],
      "execution_count": 16,
      "outputs": [
        {
          "output_type": "execute_result",
          "data": {
            "text/plain": [
              "District                                   object\n",
              "rural/urban                                object\n",
              "%_of_Households_Corrugated_Iron_Sheets     object\n",
              "%_of_Households_Tiles                      object\n",
              "%_of_Households_Concrete                   object\n",
              "Asbestos_%_of_Households_Sheets            object\n",
              "%_of_Households_Grass                      object\n",
              "%_of_Households_Makuti                     object\n",
              "%_of_Households_Tin                        object\n",
              "%_of_Households_Mud/Dung                   object\n",
              "%_of_Households_Other                      object\n",
              "Households                                  int64\n",
              "No_Corrugated_Iron_Sheets                   int64\n",
              "No_Tiles                                    int64\n",
              "No_Concrete                                 int64\n",
              "No_Asbestos_Sheets                          int64\n",
              "No_Grass                                    int64\n",
              "No_Makuti                                   int64\n",
              "No_Tin                                      int64\n",
              "No_Mud/Dung                                 int64\n",
              "No_Other                                    int64\n",
              "County                                     object\n",
              "MTEF                                       object\n",
              "Location_1                                float64\n",
              "Province                                   object\n",
              "OBJECTID                                    int64\n",
              "dtype: object"
            ]
          },
          "metadata": {
            "tags": []
          },
          "execution_count": 16
        }
      ]
    },
    {
      "cell_type": "code",
      "metadata": {
        "id": "cdjbtrH04ijB",
        "colab_type": "code",
        "colab": {
          "base_uri": "https://localhost:8080/",
          "height": 173
        },
        "outputId": "b661681a-2446-4da9-e48f-89dcf0488850"
      },
      "source": [
        "df.County.nunique()\n",
        "df.County.unique()"
      ],
      "execution_count": 18,
      "outputs": [
        {
          "output_type": "execute_result",
          "data": {
            "text/plain": [
              "array(['Nyandarua', 'Nyeri', 'Kirinyaga', \"Murang'a\", 'Kiambu', 'Mombasa',\n",
              "       'Kwale ', 'Kilifi', 'Tana River', 'Lamu', 'Taita Taveta',\n",
              "       'Marsabit', 'Isiolo', 'Meru', 'Tharaka Nithi', 'Embu', 'Kitui',\n",
              "       'Machakos', 'Makueni', 'Nairobi', 'Garissa', 'Wajir', 'Mandera',\n",
              "       'Siaya', 'Kisumu', 'Homa Bay', 'Migori', 'Kisii', 'Nyamira',\n",
              "       'Turkana', 'West Pokot', 'Samburu', 'Trans Nzoia', 'Baringo',\n",
              "       'Uasin Gishu', 'Elgeyo Marakwet', 'Nandi', 'Laikipia', 'Nakuru',\n",
              "       'Narok', 'Kajiado', 'Kericho', 'Bomet', 'Kakamega', 'Vihiga',\n",
              "       'Bungoma', 'Busia'], dtype=object)"
            ]
          },
          "metadata": {
            "tags": []
          },
          "execution_count": 18
        }
      ]
    },
    {
      "cell_type": "code",
      "metadata": {
        "id": "Rt1x1yTu5w5_",
        "colab_type": "code",
        "colab": {
          "base_uri": "https://localhost:8080/",
          "height": 815
        },
        "outputId": "e3fbc58b-0ef2-43a4-a1ba-d95e5967a746"
      },
      "source": [
        "df['%_of_Households_Corrugated_Iron_Sheets'].unique()"
      ],
      "execution_count": 21,
      "outputs": [
        {
          "output_type": "execute_result",
          "data": {
            "text/plain": [
              "array(['91.08%', '95.38%', '90.28%', '90.89%', '91.41%', '75.68%',\n",
              "       '90.67%', '88%', '88.45%', '90.04%', nan, '80.52%', '99.22%',\n",
              "       '84.4%', '74.84%', '42.41%', '79.21%', '95.67%', '96.08%', '96%',\n",
              "       '96.07%', '95.72%', '96.12%', '96.01%', '92.81%', '50.6%', '93.5%',\n",
              "       '96.47%', '95.02%', '92.86%', '92.72%', '96.16%', '96.29%',\n",
              "       '72.01%', '85.87%', '40.69%', '66.33%', '60.04%', '71.22%',\n",
              "       '87.51%', '62.96%', '73.08%', '84.04%', '20.31%', '89.91%',\n",
              "       '88.52%', '31.12%', '38.46%', '22.98%', '22.99%', '36.98%',\n",
              "       '25.07%', '18.39%', '15.26%', '34.72%', '88.96%', '68.86%',\n",
              "       '93.82%', '26.57%', '88.62%', '93.83%', '80.01%', '90.13%',\n",
              "       '96.83%', '94.4%', '97.03%', '95.64%', '87.21%', '84.41%',\n",
              "       '92.74%', '96.89%', '90.71%', '87.42%', '97.24%', '98%', '83.83%',\n",
              "       '98.42%', '91.63%', '93.65%', '85.85%', '99.07%', '95.08%',\n",
              "       '43.61%', '7.08%', '5.5%', '14.17%', '30.7%', '35.51%', '96.9%',\n",
              "       '94.27%', '96.32%', '86.5%', '93.29%', '91.43%', '88.91%', '77.9%',\n",
              "       '96.09%', '88.09%', '78.34%', '64.3%', '82.68%', '55.48%',\n",
              "       '94.82%', '92.84%', '84.79%', '86.53%', '91.7%', '83.68%',\n",
              "       '83.04%', '79.13%', '63.58%', '60.88%', '53.54%', '75.94%',\n",
              "       '60.63%', '78.22%', '69.5%', '62.14%', '32.13%', '40.21%',\n",
              "       '33.21%', '43.25%', '61.36%', '3.49%', '16.57%', '17.81%', '8.87%',\n",
              "       '6.82%', '12.71%', '0.89%', '2.03%', '4.35%', '0.6%', '7.81%',\n",
              "       '87.9%', '88.49%', '89.94%', '88.34%', '90.17%', '85.27%',\n",
              "       '92.54%', '95.65%', '92.25%', '92.98%', '91.37%', '90.88%',\n",
              "       '88.02%', '89.88%', '82.18%', '88.48%', '90.65%', '93.07%',\n",
              "       '94.98%', '58.48%', '74.16%', '71.93%', '86.25%', '76.95%',\n",
              "       '83.27%', '74.06%', '75.19%', '89.34%', '63.38%', '82.1%',\n",
              "       '64.02%', '52.16%', '87.03%', '85.18%', '82.39%', '80.31%',\n",
              "       '79.66%', '91.51%', '88.89%', '88.59%', '51.35%', '43.88%',\n",
              "       '78.89%', '91.75%', '61.07%', '46.18%', '91.36%', '91.5%',\n",
              "       '87.66%', '91.49%', '89.49%', '80.76%', '90.39%', '96.27%',\n",
              "       '74.59%', '93.85%', '93.64%', '97.88%', '71.85%', '80.88%',\n",
              "       '86.45%', '86.47%', '96.44%', '92.5%', '94.04%', '87.35%',\n",
              "       '91.07%', '91.09%', '85.57%', '95.29%', '94.87%', '74.4%',\n",
              "       '81.63%', '2.77%', '13.44%', '31.25%', '7.41%', '19.07%', '16.97%',\n",
              "       '4.75%', '5.68%', '81.66%', '87.44%', '66.69%', '66.62%', '53.22%',\n",
              "       '7.67%', '74.44%', '82.07%', '78.61%', '82.75%', '43.26%',\n",
              "       '69.08%', '77%', '85.14%', '81.55%', '63.32%', '22.78%', '89.63%',\n",
              "       '81.76%', '87.91%', '96.49%', '75.28%', '63.7%', '43.71%',\n",
              "       '25.77%', '36.59%', '47.22%', '76.27%', '77.3%', '87.53%',\n",
              "       '64.79%', '58.25%', '64.52%', '93.98%', '79.69%', '93.8%',\n",
              "       '96.62%', '90.58%', '94.55%', '79.35%', '77.56%', '91.02%',\n",
              "       '88.26%', '92.23%', '70.73%', '90.06%', '86.72%', '53.85%',\n",
              "       '90.7%', '82.32%', '72.55%', '90.11%', '57.04%', '79.64%',\n",
              "       '84.15%', '93.34%', '93.11%', '91.96%', '66.35%', '77.6%',\n",
              "       '66.46%', '89.06%', '84.58%', '73.79%', '60.7%', '49.66%', '29.2%',\n",
              "       '52.69%', '58.22%', '25.44%'], dtype=object)"
            ]
          },
          "metadata": {
            "tags": []
          },
          "execution_count": 21
        }
      ]
    },
    {
      "cell_type": "code",
      "metadata": {
        "id": "EqTTHHtv6Me1",
        "colab_type": "code",
        "colab": {
          "base_uri": "https://localhost:8080/",
          "height": 399
        },
        "outputId": "da402bf9-d728-424c-8dc2-e9e56228a206"
      },
      "source": [
        "col = ['County', 'Province', 'rural/urban']\n",
        "for c in col:\n",
        "  print(c)\n",
        "  print(df[c].unique())\n",
        "  print(df[c].nunique())\n",
        "  print('\\n')"
      ],
      "execution_count": 27,
      "outputs": [
        {
          "output_type": "stream",
          "text": [
            "County\n",
            "['Nyandarua' 'Nyeri' 'Kirinyaga' \"Murang'a\" 'Kiambu' 'Mombasa' 'Kwale '\n",
            " 'Kilifi' 'Tana River' 'Lamu' 'Taita Taveta' 'Marsabit' 'Isiolo' 'Meru'\n",
            " 'Tharaka Nithi' 'Embu' 'Kitui' 'Machakos' 'Makueni' 'Nairobi' 'Garissa'\n",
            " 'Wajir' 'Mandera' 'Siaya' 'Kisumu' 'Homa Bay' 'Migori' 'Kisii' 'Nyamira'\n",
            " 'Turkana' 'West Pokot' 'Samburu' 'Trans Nzoia' 'Baringo' 'Uasin Gishu'\n",
            " 'Elgeyo Marakwet' 'Nandi' 'Laikipia' 'Nakuru' 'Narok' 'Kajiado' 'Kericho'\n",
            " 'Bomet' 'Kakamega' 'Vihiga' 'Bungoma' 'Busia']\n",
            "47\n",
            "\n",
            "\n",
            "Province\n",
            "['CENTRAL' 'COAST' 'EASTERN' 'NAIROBI' 'NORTH EASTERN' 'NYANZA'\n",
            " 'RIFT VALLEY' 'WESTERN']\n",
            "8\n",
            "\n",
            "\n",
            "rural/urban\n",
            "['Urban' 'Rural']\n",
            "2\n",
            "\n",
            "\n"
          ],
          "name": "stdout"
        }
      ]
    },
    {
      "cell_type": "code",
      "metadata": {
        "id": "wMpP3QZ58A3n",
        "colab_type": "code",
        "colab": {
          "base_uri": "https://localhost:8080/",
          "height": 173
        },
        "outputId": "5b2881fb-d502-44f3-a5bf-6c690a268f6f"
      },
      "source": [
        "df.columns"
      ],
      "execution_count": 25,
      "outputs": [
        {
          "output_type": "execute_result",
          "data": {
            "text/plain": [
              "Index(['District', 'rural/urban', '%_of_Households_Corrugated_Iron_Sheets',\n",
              "       '%_of_Households_Tiles', '%_of_Households_Concrete',\n",
              "       'Asbestos_%_of_Households_Sheets', '%_of_Households_Grass',\n",
              "       '%_of_Households_Makuti', '%_of_Households_Tin',\n",
              "       '%_of_Households_Mud/Dung', '%_of_Households_Other', 'Households',\n",
              "       'No_Corrugated_Iron_Sheets', 'No_Tiles', 'No_Concrete',\n",
              "       'No_Asbestos_Sheets', 'No_Grass', 'No_Makuti', 'No_Tin', 'No_Mud/Dung',\n",
              "       'No_Other', 'County', 'MTEF', 'Location_1', 'Province', 'OBJECTID'],\n",
              "      dtype='object')"
            ]
          },
          "metadata": {
            "tags": []
          },
          "execution_count": 25
        }
      ]
    },
    {
      "cell_type": "code",
      "metadata": {
        "id": "pH5Mip4s9g2z",
        "colab_type": "code",
        "colab": {
          "base_uri": "https://localhost:8080/",
          "height": 314
        },
        "outputId": "8869b3f2-427d-418e-b3d5-699dc05becf2"
      },
      "source": [
        "# Summary statistics\n",
        "df.describe()"
      ],
      "execution_count": 28,
      "outputs": [
        {
          "output_type": "execute_result",
          "data": {
            "text/html": [
              "<div>\n",
              "<style scoped>\n",
              "    .dataframe tbody tr th:only-of-type {\n",
              "        vertical-align: middle;\n",
              "    }\n",
              "\n",
              "    .dataframe tbody tr th {\n",
              "        vertical-align: top;\n",
              "    }\n",
              "\n",
              "    .dataframe thead th {\n",
              "        text-align: right;\n",
              "    }\n",
              "</style>\n",
              "<table border=\"1\" class=\"dataframe\">\n",
              "  <thead>\n",
              "    <tr style=\"text-align: right;\">\n",
              "      <th></th>\n",
              "      <th>Households</th>\n",
              "      <th>No_Corrugated_Iron_Sheets</th>\n",
              "      <th>No_Tiles</th>\n",
              "      <th>No_Concrete</th>\n",
              "      <th>No_Asbestos_Sheets</th>\n",
              "      <th>No_Grass</th>\n",
              "      <th>No_Makuti</th>\n",
              "      <th>No_Tin</th>\n",
              "      <th>No_Mud/Dung</th>\n",
              "      <th>No_Other</th>\n",
              "      <th>Location_1</th>\n",
              "      <th>OBJECTID</th>\n",
              "    </tr>\n",
              "  </thead>\n",
              "  <tbody>\n",
              "    <tr>\n",
              "      <th>count</th>\n",
              "      <td>315.000000</td>\n",
              "      <td>315.000000</td>\n",
              "      <td>315.000000</td>\n",
              "      <td>315.000000</td>\n",
              "      <td>315.000000</td>\n",
              "      <td>315.000000</td>\n",
              "      <td>315.000000</td>\n",
              "      <td>315.000000</td>\n",
              "      <td>315.000000</td>\n",
              "      <td>315.000000</td>\n",
              "      <td>0.0</td>\n",
              "      <td>315.000000</td>\n",
              "    </tr>\n",
              "    <tr>\n",
              "      <th>mean</th>\n",
              "      <td>27739.990476</td>\n",
              "      <td>20313.085714</td>\n",
              "      <td>615.212698</td>\n",
              "      <td>988.504762</td>\n",
              "      <td>626.085714</td>\n",
              "      <td>3791.142857</td>\n",
              "      <td>898.860317</td>\n",
              "      <td>79.857143</td>\n",
              "      <td>221.317460</td>\n",
              "      <td>205.923810</td>\n",
              "      <td>NaN</td>\n",
              "      <td>157.000000</td>\n",
              "    </tr>\n",
              "    <tr>\n",
              "      <th>std</th>\n",
              "      <td>36936.013962</td>\n",
              "      <td>27522.195495</td>\n",
              "      <td>2768.136884</td>\n",
              "      <td>7514.353880</td>\n",
              "      <td>1173.119447</td>\n",
              "      <td>6472.772229</td>\n",
              "      <td>3537.392935</td>\n",
              "      <td>187.095505</td>\n",
              "      <td>1322.869657</td>\n",
              "      <td>917.396302</td>\n",
              "      <td>NaN</td>\n",
              "      <td>91.076891</td>\n",
              "    </tr>\n",
              "    <tr>\n",
              "      <th>min</th>\n",
              "      <td>0.000000</td>\n",
              "      <td>0.000000</td>\n",
              "      <td>0.000000</td>\n",
              "      <td>0.000000</td>\n",
              "      <td>0.000000</td>\n",
              "      <td>0.000000</td>\n",
              "      <td>0.000000</td>\n",
              "      <td>0.000000</td>\n",
              "      <td>0.000000</td>\n",
              "      <td>0.000000</td>\n",
              "      <td>NaN</td>\n",
              "      <td>0.000000</td>\n",
              "    </tr>\n",
              "    <tr>\n",
              "      <th>25%</th>\n",
              "      <td>6122.500000</td>\n",
              "      <td>2249.500000</td>\n",
              "      <td>33.500000</td>\n",
              "      <td>6.000000</td>\n",
              "      <td>76.000000</td>\n",
              "      <td>41.000000</td>\n",
              "      <td>6.500000</td>\n",
              "      <td>5.000000</td>\n",
              "      <td>1.500000</td>\n",
              "      <td>1.000000</td>\n",
              "      <td>NaN</td>\n",
              "      <td>78.500000</td>\n",
              "    </tr>\n",
              "    <tr>\n",
              "      <th>50%</th>\n",
              "      <td>19729.000000</td>\n",
              "      <td>12196.000000</td>\n",
              "      <td>141.000000</td>\n",
              "      <td>20.000000</td>\n",
              "      <td>315.000000</td>\n",
              "      <td>713.000000</td>\n",
              "      <td>29.000000</td>\n",
              "      <td>17.000000</td>\n",
              "      <td>9.000000</td>\n",
              "      <td>10.000000</td>\n",
              "      <td>NaN</td>\n",
              "      <td>157.000000</td>\n",
              "    </tr>\n",
              "    <tr>\n",
              "      <th>75%</th>\n",
              "      <td>35903.500000</td>\n",
              "      <td>28711.500000</td>\n",
              "      <td>312.000000</td>\n",
              "      <td>68.500000</td>\n",
              "      <td>737.000000</td>\n",
              "      <td>4636.000000</td>\n",
              "      <td>105.500000</td>\n",
              "      <td>75.000000</td>\n",
              "      <td>24.500000</td>\n",
              "      <td>66.500000</td>\n",
              "      <td>NaN</td>\n",
              "      <td>235.500000</td>\n",
              "    </tr>\n",
              "    <tr>\n",
              "      <th>max</th>\n",
              "      <td>369265.000000</td>\n",
              "      <td>234774.000000</td>\n",
              "      <td>29909.000000</td>\n",
              "      <td>95455.000000</td>\n",
              "      <td>13229.000000</td>\n",
              "      <td>47962.000000</td>\n",
              "      <td>34905.000000</td>\n",
              "      <td>1758.000000</td>\n",
              "      <td>15211.000000</td>\n",
              "      <td>11390.000000</td>\n",
              "      <td>NaN</td>\n",
              "      <td>314.000000</td>\n",
              "    </tr>\n",
              "  </tbody>\n",
              "</table>\n",
              "</div>"
            ],
            "text/plain": [
              "          Households  No_Corrugated_Iron_Sheets  ...  Location_1    OBJECTID\n",
              "count     315.000000                 315.000000  ...         0.0  315.000000\n",
              "mean    27739.990476               20313.085714  ...         NaN  157.000000\n",
              "std     36936.013962               27522.195495  ...         NaN   91.076891\n",
              "min         0.000000                   0.000000  ...         NaN    0.000000\n",
              "25%      6122.500000                2249.500000  ...         NaN   78.500000\n",
              "50%     19729.000000               12196.000000  ...         NaN  157.000000\n",
              "75%     35903.500000               28711.500000  ...         NaN  235.500000\n",
              "max    369265.000000              234774.000000  ...         NaN  314.000000\n",
              "\n",
              "[8 rows x 12 columns]"
            ]
          },
          "metadata": {
            "tags": []
          },
          "execution_count": 28
        }
      ]
    },
    {
      "cell_type": "code",
      "metadata": {
        "id": "H41iXgpJ_Pqk",
        "colab_type": "code",
        "colab": {
          "base_uri": "https://localhost:8080/",
          "height": 395
        },
        "outputId": "aabeb1a5-775f-40a8-8d7c-4b1c3894e53f"
      },
      "source": [
        "df.head()"
      ],
      "execution_count": 29,
      "outputs": [
        {
          "output_type": "execute_result",
          "data": {
            "text/html": [
              "<div>\n",
              "<style scoped>\n",
              "    .dataframe tbody tr th:only-of-type {\n",
              "        vertical-align: middle;\n",
              "    }\n",
              "\n",
              "    .dataframe tbody tr th {\n",
              "        vertical-align: top;\n",
              "    }\n",
              "\n",
              "    .dataframe thead th {\n",
              "        text-align: right;\n",
              "    }\n",
              "</style>\n",
              "<table border=\"1\" class=\"dataframe\">\n",
              "  <thead>\n",
              "    <tr style=\"text-align: right;\">\n",
              "      <th></th>\n",
              "      <th>District</th>\n",
              "      <th>rural/urban</th>\n",
              "      <th>%_of_Households_Corrugated_Iron_Sheets</th>\n",
              "      <th>%_of_Households_Tiles</th>\n",
              "      <th>%_of_Households_Concrete</th>\n",
              "      <th>Asbestos_%_of_Households_Sheets</th>\n",
              "      <th>%_of_Households_Grass</th>\n",
              "      <th>%_of_Households_Makuti</th>\n",
              "      <th>%_of_Households_Tin</th>\n",
              "      <th>%_of_Households_Mud/Dung</th>\n",
              "      <th>%_of_Households_Other</th>\n",
              "      <th>Households</th>\n",
              "      <th>No_Corrugated_Iron_Sheets</th>\n",
              "      <th>No_Tiles</th>\n",
              "      <th>No_Concrete</th>\n",
              "      <th>No_Asbestos_Sheets</th>\n",
              "      <th>No_Grass</th>\n",
              "      <th>No_Makuti</th>\n",
              "      <th>No_Tin</th>\n",
              "      <th>No_Mud/Dung</th>\n",
              "      <th>No_Other</th>\n",
              "      <th>County</th>\n",
              "      <th>MTEF</th>\n",
              "      <th>Location_1</th>\n",
              "      <th>Province</th>\n",
              "      <th>OBJECTID</th>\n",
              "    </tr>\n",
              "  </thead>\n",
              "  <tbody>\n",
              "    <tr>\n",
              "      <th>0</th>\n",
              "      <td>NYANDARUA NORTH</td>\n",
              "      <td>Urban</td>\n",
              "      <td>91.08%</td>\n",
              "      <td>0.62%</td>\n",
              "      <td>0.16%</td>\n",
              "      <td>1.46%</td>\n",
              "      <td>0.64%</td>\n",
              "      <td>0.03%</td>\n",
              "      <td>0.07%</td>\n",
              "      <td>0%</td>\n",
              "      <td>5.94%</td>\n",
              "      <td>23229</td>\n",
              "      <td>21156</td>\n",
              "      <td>144</td>\n",
              "      <td>38</td>\n",
              "      <td>338</td>\n",
              "      <td>148</td>\n",
              "      <td>7</td>\n",
              "      <td>17</td>\n",
              "      <td>1</td>\n",
              "      <td>1380</td>\n",
              "      <td>Nyandarua</td>\n",
              "      <td>Physical Infrastructure, Housing</td>\n",
              "      <td>NaN</td>\n",
              "      <td>CENTRAL</td>\n",
              "      <td>0</td>\n",
              "    </tr>\n",
              "    <tr>\n",
              "      <th>1</th>\n",
              "      <td>NYANDARUA SOUTH</td>\n",
              "      <td>Urban</td>\n",
              "      <td>95.38%</td>\n",
              "      <td>0.47%</td>\n",
              "      <td>2.6%</td>\n",
              "      <td>1.46%</td>\n",
              "      <td>0.06%</td>\n",
              "      <td>0%</td>\n",
              "      <td>0%</td>\n",
              "      <td>0.02%</td>\n",
              "      <td>0.02%</td>\n",
              "      <td>5345</td>\n",
              "      <td>5098</td>\n",
              "      <td>25</td>\n",
              "      <td>139</td>\n",
              "      <td>78</td>\n",
              "      <td>3</td>\n",
              "      <td>0</td>\n",
              "      <td>0</td>\n",
              "      <td>1</td>\n",
              "      <td>1</td>\n",
              "      <td>Nyandarua</td>\n",
              "      <td>Physical Infrastructure, Housing</td>\n",
              "      <td>NaN</td>\n",
              "      <td>CENTRAL</td>\n",
              "      <td>1</td>\n",
              "    </tr>\n",
              "    <tr>\n",
              "      <th>2</th>\n",
              "      <td>NYERI NORTH</td>\n",
              "      <td>Urban</td>\n",
              "      <td>90.28%</td>\n",
              "      <td>1.13%</td>\n",
              "      <td>5.21%</td>\n",
              "      <td>2.58%</td>\n",
              "      <td>0.49%</td>\n",
              "      <td>0.08%</td>\n",
              "      <td>0.2%</td>\n",
              "      <td>0.01%</td>\n",
              "      <td>0.01%</td>\n",
              "      <td>14208</td>\n",
              "      <td>12827</td>\n",
              "      <td>161</td>\n",
              "      <td>740</td>\n",
              "      <td>367</td>\n",
              "      <td>69</td>\n",
              "      <td>11</td>\n",
              "      <td>29</td>\n",
              "      <td>2</td>\n",
              "      <td>2</td>\n",
              "      <td>Nyeri</td>\n",
              "      <td>Physical Infrastructure, Housing</td>\n",
              "      <td>NaN</td>\n",
              "      <td>CENTRAL</td>\n",
              "      <td>2</td>\n",
              "    </tr>\n",
              "    <tr>\n",
              "      <th>3</th>\n",
              "      <td>NYERI SOUTH</td>\n",
              "      <td>Urban</td>\n",
              "      <td>90.89%</td>\n",
              "      <td>2.3%</td>\n",
              "      <td>3.32%</td>\n",
              "      <td>3.04%</td>\n",
              "      <td>0.09%</td>\n",
              "      <td>0.05%</td>\n",
              "      <td>0.14%</td>\n",
              "      <td>0.01%</td>\n",
              "      <td>0.17%</td>\n",
              "      <td>39927</td>\n",
              "      <td>36290</td>\n",
              "      <td>917</td>\n",
              "      <td>1325</td>\n",
              "      <td>1213</td>\n",
              "      <td>36</td>\n",
              "      <td>20</td>\n",
              "      <td>57</td>\n",
              "      <td>2</td>\n",
              "      <td>67</td>\n",
              "      <td>Nyeri</td>\n",
              "      <td>Physical Infrastructure, Housing</td>\n",
              "      <td>NaN</td>\n",
              "      <td>CENTRAL</td>\n",
              "      <td>3</td>\n",
              "    </tr>\n",
              "    <tr>\n",
              "      <th>4</th>\n",
              "      <td>KIRINYAGA</td>\n",
              "      <td>Urban</td>\n",
              "      <td>91.41%</td>\n",
              "      <td>0.87%</td>\n",
              "      <td>3.97%</td>\n",
              "      <td>3.5%</td>\n",
              "      <td>0.04%</td>\n",
              "      <td>0.01%</td>\n",
              "      <td>0.03%</td>\n",
              "      <td>0.01%</td>\n",
              "      <td>0.15%</td>\n",
              "      <td>27461</td>\n",
              "      <td>25103</td>\n",
              "      <td>239</td>\n",
              "      <td>1090</td>\n",
              "      <td>960</td>\n",
              "      <td>11</td>\n",
              "      <td>3</td>\n",
              "      <td>9</td>\n",
              "      <td>4</td>\n",
              "      <td>42</td>\n",
              "      <td>Kirinyaga</td>\n",
              "      <td>Physical Infrastructure, Housing</td>\n",
              "      <td>NaN</td>\n",
              "      <td>CENTRAL</td>\n",
              "      <td>4</td>\n",
              "    </tr>\n",
              "  </tbody>\n",
              "</table>\n",
              "</div>"
            ],
            "text/plain": [
              "          District rural/urban  ... Province OBJECTID\n",
              "0  NYANDARUA NORTH       Urban  ...  CENTRAL        0\n",
              "1  NYANDARUA SOUTH       Urban  ...  CENTRAL        1\n",
              "2      NYERI NORTH       Urban  ...  CENTRAL        2\n",
              "3      NYERI SOUTH       Urban  ...  CENTRAL        3\n",
              "4        KIRINYAGA       Urban  ...  CENTRAL        4\n",
              "\n",
              "[5 rows x 26 columns]"
            ]
          },
          "metadata": {
            "tags": []
          },
          "execution_count": 29
        }
      ]
    },
    {
      "cell_type": "code",
      "metadata": {
        "id": "_SOOu4lTAKMK",
        "colab_type": "code",
        "colab": {}
      },
      "source": [
        "# drop Location 1 since we wont need it during Analysis\n",
        "df.drop(['Location_1'], axis = 1, inplace = True)"
      ],
      "execution_count": 0,
      "outputs": []
    },
    {
      "cell_type": "code",
      "metadata": {
        "id": "bwC7icEZBIgG",
        "colab_type": "code",
        "colab": {
          "base_uri": "https://localhost:8080/",
          "height": 35
        },
        "outputId": "1a698a54-e5c7-4ef5-eae1-2411c862d1b8"
      },
      "source": [
        "# confirming the Location 1 is dropped\n",
        "df.shape"
      ],
      "execution_count": 31,
      "outputs": [
        {
          "output_type": "execute_result",
          "data": {
            "text/plain": [
              "(315, 25)"
            ]
          },
          "metadata": {
            "tags": []
          },
          "execution_count": 31
        }
      ]
    },
    {
      "cell_type": "code",
      "metadata": {
        "id": "E61OUa-FBUbO",
        "colab_type": "code",
        "colab": {}
      },
      "source": [
        "# Drop OBJECTID since we wont be needing it\n",
        "df.drop(['OBJECTID'], axis = 1, inplace = True)"
      ],
      "execution_count": 0,
      "outputs": []
    },
    {
      "cell_type": "code",
      "metadata": {
        "id": "E0if4wP6CWp1",
        "colab_type": "code",
        "colab": {
          "base_uri": "https://localhost:8080/",
          "height": 35
        },
        "outputId": "e7f44f46-80b5-454a-cc5c-d9b5c5988e61"
      },
      "source": [
        "df.shape"
      ],
      "execution_count": 33,
      "outputs": [
        {
          "output_type": "execute_result",
          "data": {
            "text/plain": [
              "(315, 24)"
            ]
          },
          "metadata": {
            "tags": []
          },
          "execution_count": 33
        }
      ]
    },
    {
      "cell_type": "code",
      "metadata": {
        "id": "K1Zj_DHaD_n_",
        "colab_type": "code",
        "colab": {
          "base_uri": "https://localhost:8080/",
          "height": 395
        },
        "outputId": "b4d22674-5588-4b2c-c63b-80d1f4c2d466"
      },
      "source": [
        "cols = ['%_of_Households_Corrugated_Iron_Sheets',\n",
        "       '%_of_Households_Tiles', '%_of_Households_Concrete',\n",
        "       'Asbestos_%_of_Households_Sheets', '%_of_Households_Grass',\n",
        "       '%_of_Households_Makuti', '%_of_Households_Tin',\n",
        "       '%_of_Households_Mud/Dung', '%_of_Households_Other']\n",
        "df[cols] =df[cols].replace({'%':''}, regex = True)\n",
        "df.head()"
      ],
      "execution_count": 37,
      "outputs": [
        {
          "output_type": "execute_result",
          "data": {
            "text/html": [
              "<div>\n",
              "<style scoped>\n",
              "    .dataframe tbody tr th:only-of-type {\n",
              "        vertical-align: middle;\n",
              "    }\n",
              "\n",
              "    .dataframe tbody tr th {\n",
              "        vertical-align: top;\n",
              "    }\n",
              "\n",
              "    .dataframe thead th {\n",
              "        text-align: right;\n",
              "    }\n",
              "</style>\n",
              "<table border=\"1\" class=\"dataframe\">\n",
              "  <thead>\n",
              "    <tr style=\"text-align: right;\">\n",
              "      <th></th>\n",
              "      <th>District</th>\n",
              "      <th>rural/urban</th>\n",
              "      <th>%_of_Households_Corrugated_Iron_Sheets</th>\n",
              "      <th>%_of_Households_Tiles</th>\n",
              "      <th>%_of_Households_Concrete</th>\n",
              "      <th>Asbestos_%_of_Households_Sheets</th>\n",
              "      <th>%_of_Households_Grass</th>\n",
              "      <th>%_of_Households_Makuti</th>\n",
              "      <th>%_of_Households_Tin</th>\n",
              "      <th>%_of_Households_Mud/Dung</th>\n",
              "      <th>%_of_Households_Other</th>\n",
              "      <th>Households</th>\n",
              "      <th>No_Corrugated_Iron_Sheets</th>\n",
              "      <th>No_Tiles</th>\n",
              "      <th>No_Concrete</th>\n",
              "      <th>No_Asbestos_Sheets</th>\n",
              "      <th>No_Grass</th>\n",
              "      <th>No_Makuti</th>\n",
              "      <th>No_Tin</th>\n",
              "      <th>No_Mud/Dung</th>\n",
              "      <th>No_Other</th>\n",
              "      <th>County</th>\n",
              "      <th>MTEF</th>\n",
              "      <th>Province</th>\n",
              "    </tr>\n",
              "  </thead>\n",
              "  <tbody>\n",
              "    <tr>\n",
              "      <th>0</th>\n",
              "      <td>NYANDARUA NORTH</td>\n",
              "      <td>Urban</td>\n",
              "      <td>91.08</td>\n",
              "      <td>0.62</td>\n",
              "      <td>0.16</td>\n",
              "      <td>1.46</td>\n",
              "      <td>0.64</td>\n",
              "      <td>0.03</td>\n",
              "      <td>0.07</td>\n",
              "      <td>0</td>\n",
              "      <td>5.94</td>\n",
              "      <td>23229</td>\n",
              "      <td>21156</td>\n",
              "      <td>144</td>\n",
              "      <td>38</td>\n",
              "      <td>338</td>\n",
              "      <td>148</td>\n",
              "      <td>7</td>\n",
              "      <td>17</td>\n",
              "      <td>1</td>\n",
              "      <td>1380</td>\n",
              "      <td>Nyandarua</td>\n",
              "      <td>Physical Infrastructure, Housing</td>\n",
              "      <td>CENTRAL</td>\n",
              "    </tr>\n",
              "    <tr>\n",
              "      <th>1</th>\n",
              "      <td>NYANDARUA SOUTH</td>\n",
              "      <td>Urban</td>\n",
              "      <td>95.38</td>\n",
              "      <td>0.47</td>\n",
              "      <td>2.6</td>\n",
              "      <td>1.46</td>\n",
              "      <td>0.06</td>\n",
              "      <td>0</td>\n",
              "      <td>0</td>\n",
              "      <td>0.02</td>\n",
              "      <td>0.02</td>\n",
              "      <td>5345</td>\n",
              "      <td>5098</td>\n",
              "      <td>25</td>\n",
              "      <td>139</td>\n",
              "      <td>78</td>\n",
              "      <td>3</td>\n",
              "      <td>0</td>\n",
              "      <td>0</td>\n",
              "      <td>1</td>\n",
              "      <td>1</td>\n",
              "      <td>Nyandarua</td>\n",
              "      <td>Physical Infrastructure, Housing</td>\n",
              "      <td>CENTRAL</td>\n",
              "    </tr>\n",
              "    <tr>\n",
              "      <th>2</th>\n",
              "      <td>NYERI NORTH</td>\n",
              "      <td>Urban</td>\n",
              "      <td>90.28</td>\n",
              "      <td>1.13</td>\n",
              "      <td>5.21</td>\n",
              "      <td>2.58</td>\n",
              "      <td>0.49</td>\n",
              "      <td>0.08</td>\n",
              "      <td>0.2</td>\n",
              "      <td>0.01</td>\n",
              "      <td>0.01</td>\n",
              "      <td>14208</td>\n",
              "      <td>12827</td>\n",
              "      <td>161</td>\n",
              "      <td>740</td>\n",
              "      <td>367</td>\n",
              "      <td>69</td>\n",
              "      <td>11</td>\n",
              "      <td>29</td>\n",
              "      <td>2</td>\n",
              "      <td>2</td>\n",
              "      <td>Nyeri</td>\n",
              "      <td>Physical Infrastructure, Housing</td>\n",
              "      <td>CENTRAL</td>\n",
              "    </tr>\n",
              "    <tr>\n",
              "      <th>3</th>\n",
              "      <td>NYERI SOUTH</td>\n",
              "      <td>Urban</td>\n",
              "      <td>90.89</td>\n",
              "      <td>2.3</td>\n",
              "      <td>3.32</td>\n",
              "      <td>3.04</td>\n",
              "      <td>0.09</td>\n",
              "      <td>0.05</td>\n",
              "      <td>0.14</td>\n",
              "      <td>0.01</td>\n",
              "      <td>0.17</td>\n",
              "      <td>39927</td>\n",
              "      <td>36290</td>\n",
              "      <td>917</td>\n",
              "      <td>1325</td>\n",
              "      <td>1213</td>\n",
              "      <td>36</td>\n",
              "      <td>20</td>\n",
              "      <td>57</td>\n",
              "      <td>2</td>\n",
              "      <td>67</td>\n",
              "      <td>Nyeri</td>\n",
              "      <td>Physical Infrastructure, Housing</td>\n",
              "      <td>CENTRAL</td>\n",
              "    </tr>\n",
              "    <tr>\n",
              "      <th>4</th>\n",
              "      <td>KIRINYAGA</td>\n",
              "      <td>Urban</td>\n",
              "      <td>91.41</td>\n",
              "      <td>0.87</td>\n",
              "      <td>3.97</td>\n",
              "      <td>3.5</td>\n",
              "      <td>0.04</td>\n",
              "      <td>0.01</td>\n",
              "      <td>0.03</td>\n",
              "      <td>0.01</td>\n",
              "      <td>0.15</td>\n",
              "      <td>27461</td>\n",
              "      <td>25103</td>\n",
              "      <td>239</td>\n",
              "      <td>1090</td>\n",
              "      <td>960</td>\n",
              "      <td>11</td>\n",
              "      <td>3</td>\n",
              "      <td>9</td>\n",
              "      <td>4</td>\n",
              "      <td>42</td>\n",
              "      <td>Kirinyaga</td>\n",
              "      <td>Physical Infrastructure, Housing</td>\n",
              "      <td>CENTRAL</td>\n",
              "    </tr>\n",
              "  </tbody>\n",
              "</table>\n",
              "</div>"
            ],
            "text/plain": [
              "          District rural/urban  ...                              MTEF Province\n",
              "0  NYANDARUA NORTH       Urban  ...  Physical Infrastructure, Housing  CENTRAL\n",
              "1  NYANDARUA SOUTH       Urban  ...  Physical Infrastructure, Housing  CENTRAL\n",
              "2      NYERI NORTH       Urban  ...  Physical Infrastructure, Housing  CENTRAL\n",
              "3      NYERI SOUTH       Urban  ...  Physical Infrastructure, Housing  CENTRAL\n",
              "4        KIRINYAGA       Urban  ...  Physical Infrastructure, Housing  CENTRAL\n",
              "\n",
              "[5 rows x 24 columns]"
            ]
          },
          "metadata": {
            "tags": []
          },
          "execution_count": 37
        }
      ]
    },
    {
      "cell_type": "code",
      "metadata": {
        "id": "H4f0_EJwEn9-",
        "colab_type": "code",
        "colab": {
          "base_uri": "https://localhost:8080/",
          "height": 35
        },
        "outputId": "a84e70b0-5a97-4b91-c978-a702076cea37"
      },
      "source": [
        "#1 count the no. of missing values\n",
        "df.isnull().sum().any()"
      ],
      "execution_count": 39,
      "outputs": [
        {
          "output_type": "execute_result",
          "data": {
            "text/plain": [
              "True"
            ]
          },
          "metadata": {
            "tags": []
          },
          "execution_count": 39
        }
      ]
    },
    {
      "cell_type": "code",
      "metadata": {
        "id": "c-nJxjWaI_qH",
        "colab_type": "code",
        "colab": {
          "base_uri": "https://localhost:8080/",
          "height": 35
        },
        "outputId": "536516cd-b9fb-44dd-c089-c50bad2d37b0"
      },
      "source": [
        "df.isnull().sum().sum()"
      ],
      "execution_count": 40,
      "outputs": [
        {
          "output_type": "execute_result",
          "data": {
            "text/plain": [
              "225"
            ]
          },
          "metadata": {
            "tags": []
          },
          "execution_count": 40
        }
      ]
    },
    {
      "cell_type": "code",
      "metadata": {
        "id": "6Vm6g2aMJTGp",
        "colab_type": "code",
        "colab": {
          "base_uri": "https://localhost:8080/",
          "height": 451
        },
        "outputId": "a00c79c4-50b1-40b9-879c-62b996ce503f"
      },
      "source": [
        "#counting null values per column\n",
        "df.isnull().sum()"
      ],
      "execution_count": 41,
      "outputs": [
        {
          "output_type": "execute_result",
          "data": {
            "text/plain": [
              "District                                   0\n",
              "rural/urban                                0\n",
              "%_of_Households_Corrugated_Iron_Sheets    25\n",
              "%_of_Households_Tiles                     25\n",
              "%_of_Households_Concrete                  25\n",
              "Asbestos_%_of_Households_Sheets           25\n",
              "%_of_Households_Grass                     25\n",
              "%_of_Households_Makuti                    25\n",
              "%_of_Households_Tin                       25\n",
              "%_of_Households_Mud/Dung                  25\n",
              "%_of_Households_Other                     25\n",
              "Households                                 0\n",
              "No_Corrugated_Iron_Sheets                  0\n",
              "No_Tiles                                   0\n",
              "No_Concrete                                0\n",
              "No_Asbestos_Sheets                         0\n",
              "No_Grass                                   0\n",
              "No_Makuti                                  0\n",
              "No_Tin                                     0\n",
              "No_Mud/Dung                                0\n",
              "No_Other                                   0\n",
              "County                                     0\n",
              "MTEF                                       0\n",
              "Province                                   0\n",
              "dtype: int64"
            ]
          },
          "metadata": {
            "tags": []
          },
          "execution_count": 41
        }
      ]
    },
    {
      "cell_type": "code",
      "metadata": {
        "id": "8EZzADqnJaFB",
        "colab_type": "code",
        "colab": {}
      },
      "source": [
        "#dropping all the null values\n",
        "df.dropna(inplace = True)"
      ],
      "execution_count": 0,
      "outputs": []
    },
    {
      "cell_type": "code",
      "metadata": {
        "id": "P2l9f0bEKDRU",
        "colab_type": "code",
        "colab": {
          "base_uri": "https://localhost:8080/",
          "height": 451
        },
        "outputId": "9735293e-a2c4-4dab-8f1f-64eb1c5755d2"
      },
      "source": [
        "df.isnull().sum()"
      ],
      "execution_count": 43,
      "outputs": [
        {
          "output_type": "execute_result",
          "data": {
            "text/plain": [
              "District                                  0\n",
              "rural/urban                               0\n",
              "%_of_Households_Corrugated_Iron_Sheets    0\n",
              "%_of_Households_Tiles                     0\n",
              "%_of_Households_Concrete                  0\n",
              "Asbestos_%_of_Households_Sheets           0\n",
              "%_of_Households_Grass                     0\n",
              "%_of_Households_Makuti                    0\n",
              "%_of_Households_Tin                       0\n",
              "%_of_Households_Mud/Dung                  0\n",
              "%_of_Households_Other                     0\n",
              "Households                                0\n",
              "No_Corrugated_Iron_Sheets                 0\n",
              "No_Tiles                                  0\n",
              "No_Concrete                               0\n",
              "No_Asbestos_Sheets                        0\n",
              "No_Grass                                  0\n",
              "No_Makuti                                 0\n",
              "No_Tin                                    0\n",
              "No_Mud/Dung                               0\n",
              "No_Other                                  0\n",
              "County                                    0\n",
              "MTEF                                      0\n",
              "Province                                  0\n",
              "dtype: int64"
            ]
          },
          "metadata": {
            "tags": []
          },
          "execution_count": 43
        }
      ]
    },
    {
      "cell_type": "code",
      "metadata": {
        "id": "P2Ee-wGfKLoH",
        "colab_type": "code",
        "colab": {
          "base_uri": "https://localhost:8080/",
          "height": 173
        },
        "outputId": "7fd8479d-9b7f-4a0e-db5d-b144dc2d4fe0"
      },
      "source": [
        "#fixing messy columns\n",
        "df.columns"
      ],
      "execution_count": 44,
      "outputs": [
        {
          "output_type": "execute_result",
          "data": {
            "text/plain": [
              "Index(['District', 'rural/urban', '%_of_Households_Corrugated_Iron_Sheets',\n",
              "       '%_of_Households_Tiles', '%_of_Households_Concrete',\n",
              "       'Asbestos_%_of_Households_Sheets', '%_of_Households_Grass',\n",
              "       '%_of_Households_Makuti', '%_of_Households_Tin',\n",
              "       '%_of_Households_Mud/Dung', '%_of_Households_Other', 'Households',\n",
              "       'No_Corrugated_Iron_Sheets', 'No_Tiles', 'No_Concrete',\n",
              "       'No_Asbestos_Sheets', 'No_Grass', 'No_Makuti', 'No_Tin', 'No_Mud/Dung',\n",
              "       'No_Other', 'County', 'MTEF', 'Province'],\n",
              "      dtype='object')"
            ]
          },
          "metadata": {
            "tags": []
          },
          "execution_count": 44
        }
      ]
    },
    {
      "cell_type": "code",
      "metadata": {
        "id": "FQMJf9nhKae8",
        "colab_type": "code",
        "colab": {}
      },
      "source": [
        "df.columns = df.columns.str.lower().str.replace('%_of_', '').str.replace('/','_')"
      ],
      "execution_count": 0,
      "outputs": []
    },
    {
      "cell_type": "code",
      "metadata": {
        "id": "nrEFmFiKLNI1",
        "colab_type": "code",
        "colab": {
          "base_uri": "https://localhost:8080/",
          "height": 156
        },
        "outputId": "75d7198b-90a1-425d-9e08-c2a445007d32"
      },
      "source": [
        "df.columns"
      ],
      "execution_count": 46,
      "outputs": [
        {
          "output_type": "execute_result",
          "data": {
            "text/plain": [
              "Index(['district', 'rural_urban', 'households_corrugated_iron_sheets',\n",
              "       'households_tiles', 'households_concrete', 'asbestos_households_sheets',\n",
              "       'households_grass', 'households_makuti', 'households_tin',\n",
              "       'households_mud_dung', 'households_other', 'households',\n",
              "       'no_corrugated_iron_sheets', 'no_tiles', 'no_concrete',\n",
              "       'no_asbestos_sheets', 'no_grass', 'no_makuti', 'no_tin', 'no_mud_dung',\n",
              "       'no_other', 'county', 'mtef', 'province'],\n",
              "      dtype='object')"
            ]
          },
          "metadata": {
            "tags": []
          },
          "execution_count": 46
        }
      ]
    },
    {
      "cell_type": "code",
      "metadata": {
        "id": "NddA1bNpLUvh",
        "colab_type": "code",
        "colab": {
          "base_uri": "https://localhost:8080/",
          "height": 413
        },
        "outputId": "2dfb753d-44cf-4e00-f484-f8a147034fe9"
      },
      "source": [
        "# exporting the cleaned data\n",
        "df.to_csv('Roofing.csv')\n",
        "rf = pd.read_csv('Roofing.csv')\n",
        "rf.head()"
      ],
      "execution_count": 49,
      "outputs": [
        {
          "output_type": "execute_result",
          "data": {
            "text/html": [
              "<div>\n",
              "<style scoped>\n",
              "    .dataframe tbody tr th:only-of-type {\n",
              "        vertical-align: middle;\n",
              "    }\n",
              "\n",
              "    .dataframe tbody tr th {\n",
              "        vertical-align: top;\n",
              "    }\n",
              "\n",
              "    .dataframe thead th {\n",
              "        text-align: right;\n",
              "    }\n",
              "</style>\n",
              "<table border=\"1\" class=\"dataframe\">\n",
              "  <thead>\n",
              "    <tr style=\"text-align: right;\">\n",
              "      <th></th>\n",
              "      <th>Unnamed: 0</th>\n",
              "      <th>district</th>\n",
              "      <th>rural_urban</th>\n",
              "      <th>households_corrugated_iron_sheets</th>\n",
              "      <th>households_tiles</th>\n",
              "      <th>households_concrete</th>\n",
              "      <th>asbestos_households_sheets</th>\n",
              "      <th>households_grass</th>\n",
              "      <th>households_makuti</th>\n",
              "      <th>households_tin</th>\n",
              "      <th>households_mud_dung</th>\n",
              "      <th>households_other</th>\n",
              "      <th>households</th>\n",
              "      <th>no_corrugated_iron_sheets</th>\n",
              "      <th>no_tiles</th>\n",
              "      <th>no_concrete</th>\n",
              "      <th>no_asbestos_sheets</th>\n",
              "      <th>no_grass</th>\n",
              "      <th>no_makuti</th>\n",
              "      <th>no_tin</th>\n",
              "      <th>no_mud_dung</th>\n",
              "      <th>no_other</th>\n",
              "      <th>county</th>\n",
              "      <th>mtef</th>\n",
              "      <th>province</th>\n",
              "    </tr>\n",
              "  </thead>\n",
              "  <tbody>\n",
              "    <tr>\n",
              "      <th>0</th>\n",
              "      <td>0</td>\n",
              "      <td>NYANDARUA NORTH</td>\n",
              "      <td>Urban</td>\n",
              "      <td>91.08</td>\n",
              "      <td>0.62</td>\n",
              "      <td>0.16</td>\n",
              "      <td>1.46</td>\n",
              "      <td>0.64</td>\n",
              "      <td>0.03</td>\n",
              "      <td>0.07</td>\n",
              "      <td>0.00</td>\n",
              "      <td>5.94</td>\n",
              "      <td>23229</td>\n",
              "      <td>21156</td>\n",
              "      <td>144</td>\n",
              "      <td>38</td>\n",
              "      <td>338</td>\n",
              "      <td>148</td>\n",
              "      <td>7</td>\n",
              "      <td>17</td>\n",
              "      <td>1</td>\n",
              "      <td>1380</td>\n",
              "      <td>Nyandarua</td>\n",
              "      <td>Physical Infrastructure, Housing</td>\n",
              "      <td>CENTRAL</td>\n",
              "    </tr>\n",
              "    <tr>\n",
              "      <th>1</th>\n",
              "      <td>1</td>\n",
              "      <td>NYANDARUA SOUTH</td>\n",
              "      <td>Urban</td>\n",
              "      <td>95.38</td>\n",
              "      <td>0.47</td>\n",
              "      <td>2.60</td>\n",
              "      <td>1.46</td>\n",
              "      <td>0.06</td>\n",
              "      <td>0.00</td>\n",
              "      <td>0.00</td>\n",
              "      <td>0.02</td>\n",
              "      <td>0.02</td>\n",
              "      <td>5345</td>\n",
              "      <td>5098</td>\n",
              "      <td>25</td>\n",
              "      <td>139</td>\n",
              "      <td>78</td>\n",
              "      <td>3</td>\n",
              "      <td>0</td>\n",
              "      <td>0</td>\n",
              "      <td>1</td>\n",
              "      <td>1</td>\n",
              "      <td>Nyandarua</td>\n",
              "      <td>Physical Infrastructure, Housing</td>\n",
              "      <td>CENTRAL</td>\n",
              "    </tr>\n",
              "    <tr>\n",
              "      <th>2</th>\n",
              "      <td>2</td>\n",
              "      <td>NYERI NORTH</td>\n",
              "      <td>Urban</td>\n",
              "      <td>90.28</td>\n",
              "      <td>1.13</td>\n",
              "      <td>5.21</td>\n",
              "      <td>2.58</td>\n",
              "      <td>0.49</td>\n",
              "      <td>0.08</td>\n",
              "      <td>0.20</td>\n",
              "      <td>0.01</td>\n",
              "      <td>0.01</td>\n",
              "      <td>14208</td>\n",
              "      <td>12827</td>\n",
              "      <td>161</td>\n",
              "      <td>740</td>\n",
              "      <td>367</td>\n",
              "      <td>69</td>\n",
              "      <td>11</td>\n",
              "      <td>29</td>\n",
              "      <td>2</td>\n",
              "      <td>2</td>\n",
              "      <td>Nyeri</td>\n",
              "      <td>Physical Infrastructure, Housing</td>\n",
              "      <td>CENTRAL</td>\n",
              "    </tr>\n",
              "    <tr>\n",
              "      <th>3</th>\n",
              "      <td>3</td>\n",
              "      <td>NYERI SOUTH</td>\n",
              "      <td>Urban</td>\n",
              "      <td>90.89</td>\n",
              "      <td>2.30</td>\n",
              "      <td>3.32</td>\n",
              "      <td>3.04</td>\n",
              "      <td>0.09</td>\n",
              "      <td>0.05</td>\n",
              "      <td>0.14</td>\n",
              "      <td>0.01</td>\n",
              "      <td>0.17</td>\n",
              "      <td>39927</td>\n",
              "      <td>36290</td>\n",
              "      <td>917</td>\n",
              "      <td>1325</td>\n",
              "      <td>1213</td>\n",
              "      <td>36</td>\n",
              "      <td>20</td>\n",
              "      <td>57</td>\n",
              "      <td>2</td>\n",
              "      <td>67</td>\n",
              "      <td>Nyeri</td>\n",
              "      <td>Physical Infrastructure, Housing</td>\n",
              "      <td>CENTRAL</td>\n",
              "    </tr>\n",
              "    <tr>\n",
              "      <th>4</th>\n",
              "      <td>4</td>\n",
              "      <td>KIRINYAGA</td>\n",
              "      <td>Urban</td>\n",
              "      <td>91.41</td>\n",
              "      <td>0.87</td>\n",
              "      <td>3.97</td>\n",
              "      <td>3.50</td>\n",
              "      <td>0.04</td>\n",
              "      <td>0.01</td>\n",
              "      <td>0.03</td>\n",
              "      <td>0.01</td>\n",
              "      <td>0.15</td>\n",
              "      <td>27461</td>\n",
              "      <td>25103</td>\n",
              "      <td>239</td>\n",
              "      <td>1090</td>\n",
              "      <td>960</td>\n",
              "      <td>11</td>\n",
              "      <td>3</td>\n",
              "      <td>9</td>\n",
              "      <td>4</td>\n",
              "      <td>42</td>\n",
              "      <td>Kirinyaga</td>\n",
              "      <td>Physical Infrastructure, Housing</td>\n",
              "      <td>CENTRAL</td>\n",
              "    </tr>\n",
              "  </tbody>\n",
              "</table>\n",
              "</div>"
            ],
            "text/plain": [
              "   Unnamed: 0         district  ...                              mtef  province\n",
              "0           0  NYANDARUA NORTH  ...  Physical Infrastructure, Housing   CENTRAL\n",
              "1           1  NYANDARUA SOUTH  ...  Physical Infrastructure, Housing   CENTRAL\n",
              "2           2      NYERI NORTH  ...  Physical Infrastructure, Housing   CENTRAL\n",
              "3           3      NYERI SOUTH  ...  Physical Infrastructure, Housing   CENTRAL\n",
              "4           4        KIRINYAGA  ...  Physical Infrastructure, Housing   CENTRAL\n",
              "\n",
              "[5 rows x 25 columns]"
            ]
          },
          "metadata": {
            "tags": []
          },
          "execution_count": 49
        }
      ]
    },
    {
      "cell_type": "code",
      "metadata": {
        "id": "GbNUockZMQYW",
        "colab_type": "code",
        "colab": {
          "base_uri": "https://localhost:8080/",
          "height": 413
        },
        "outputId": "ce8ac589-87ca-44c5-eda9-b5f9c4e92c79"
      },
      "source": [
        "cleaned_df = pd.read_csv('Roofing.csv')\n",
        "cleaned_df.head()"
      ],
      "execution_count": 52,
      "outputs": [
        {
          "output_type": "execute_result",
          "data": {
            "text/html": [
              "<div>\n",
              "<style scoped>\n",
              "    .dataframe tbody tr th:only-of-type {\n",
              "        vertical-align: middle;\n",
              "    }\n",
              "\n",
              "    .dataframe tbody tr th {\n",
              "        vertical-align: top;\n",
              "    }\n",
              "\n",
              "    .dataframe thead th {\n",
              "        text-align: right;\n",
              "    }\n",
              "</style>\n",
              "<table border=\"1\" class=\"dataframe\">\n",
              "  <thead>\n",
              "    <tr style=\"text-align: right;\">\n",
              "      <th></th>\n",
              "      <th>Unnamed: 0</th>\n",
              "      <th>district</th>\n",
              "      <th>rural_urban</th>\n",
              "      <th>households_corrugated_iron_sheets</th>\n",
              "      <th>households_tiles</th>\n",
              "      <th>households_concrete</th>\n",
              "      <th>asbestos_households_sheets</th>\n",
              "      <th>households_grass</th>\n",
              "      <th>households_makuti</th>\n",
              "      <th>households_tin</th>\n",
              "      <th>households_mud_dung</th>\n",
              "      <th>households_other</th>\n",
              "      <th>households</th>\n",
              "      <th>no_corrugated_iron_sheets</th>\n",
              "      <th>no_tiles</th>\n",
              "      <th>no_concrete</th>\n",
              "      <th>no_asbestos_sheets</th>\n",
              "      <th>no_grass</th>\n",
              "      <th>no_makuti</th>\n",
              "      <th>no_tin</th>\n",
              "      <th>no_mud_dung</th>\n",
              "      <th>no_other</th>\n",
              "      <th>county</th>\n",
              "      <th>mtef</th>\n",
              "      <th>province</th>\n",
              "    </tr>\n",
              "  </thead>\n",
              "  <tbody>\n",
              "    <tr>\n",
              "      <th>0</th>\n",
              "      <td>0</td>\n",
              "      <td>NYANDARUA NORTH</td>\n",
              "      <td>Urban</td>\n",
              "      <td>91.08</td>\n",
              "      <td>0.62</td>\n",
              "      <td>0.16</td>\n",
              "      <td>1.46</td>\n",
              "      <td>0.64</td>\n",
              "      <td>0.03</td>\n",
              "      <td>0.07</td>\n",
              "      <td>0.00</td>\n",
              "      <td>5.94</td>\n",
              "      <td>23229</td>\n",
              "      <td>21156</td>\n",
              "      <td>144</td>\n",
              "      <td>38</td>\n",
              "      <td>338</td>\n",
              "      <td>148</td>\n",
              "      <td>7</td>\n",
              "      <td>17</td>\n",
              "      <td>1</td>\n",
              "      <td>1380</td>\n",
              "      <td>Nyandarua</td>\n",
              "      <td>Physical Infrastructure, Housing</td>\n",
              "      <td>CENTRAL</td>\n",
              "    </tr>\n",
              "    <tr>\n",
              "      <th>1</th>\n",
              "      <td>1</td>\n",
              "      <td>NYANDARUA SOUTH</td>\n",
              "      <td>Urban</td>\n",
              "      <td>95.38</td>\n",
              "      <td>0.47</td>\n",
              "      <td>2.60</td>\n",
              "      <td>1.46</td>\n",
              "      <td>0.06</td>\n",
              "      <td>0.00</td>\n",
              "      <td>0.00</td>\n",
              "      <td>0.02</td>\n",
              "      <td>0.02</td>\n",
              "      <td>5345</td>\n",
              "      <td>5098</td>\n",
              "      <td>25</td>\n",
              "      <td>139</td>\n",
              "      <td>78</td>\n",
              "      <td>3</td>\n",
              "      <td>0</td>\n",
              "      <td>0</td>\n",
              "      <td>1</td>\n",
              "      <td>1</td>\n",
              "      <td>Nyandarua</td>\n",
              "      <td>Physical Infrastructure, Housing</td>\n",
              "      <td>CENTRAL</td>\n",
              "    </tr>\n",
              "    <tr>\n",
              "      <th>2</th>\n",
              "      <td>2</td>\n",
              "      <td>NYERI NORTH</td>\n",
              "      <td>Urban</td>\n",
              "      <td>90.28</td>\n",
              "      <td>1.13</td>\n",
              "      <td>5.21</td>\n",
              "      <td>2.58</td>\n",
              "      <td>0.49</td>\n",
              "      <td>0.08</td>\n",
              "      <td>0.20</td>\n",
              "      <td>0.01</td>\n",
              "      <td>0.01</td>\n",
              "      <td>14208</td>\n",
              "      <td>12827</td>\n",
              "      <td>161</td>\n",
              "      <td>740</td>\n",
              "      <td>367</td>\n",
              "      <td>69</td>\n",
              "      <td>11</td>\n",
              "      <td>29</td>\n",
              "      <td>2</td>\n",
              "      <td>2</td>\n",
              "      <td>Nyeri</td>\n",
              "      <td>Physical Infrastructure, Housing</td>\n",
              "      <td>CENTRAL</td>\n",
              "    </tr>\n",
              "    <tr>\n",
              "      <th>3</th>\n",
              "      <td>3</td>\n",
              "      <td>NYERI SOUTH</td>\n",
              "      <td>Urban</td>\n",
              "      <td>90.89</td>\n",
              "      <td>2.30</td>\n",
              "      <td>3.32</td>\n",
              "      <td>3.04</td>\n",
              "      <td>0.09</td>\n",
              "      <td>0.05</td>\n",
              "      <td>0.14</td>\n",
              "      <td>0.01</td>\n",
              "      <td>0.17</td>\n",
              "      <td>39927</td>\n",
              "      <td>36290</td>\n",
              "      <td>917</td>\n",
              "      <td>1325</td>\n",
              "      <td>1213</td>\n",
              "      <td>36</td>\n",
              "      <td>20</td>\n",
              "      <td>57</td>\n",
              "      <td>2</td>\n",
              "      <td>67</td>\n",
              "      <td>Nyeri</td>\n",
              "      <td>Physical Infrastructure, Housing</td>\n",
              "      <td>CENTRAL</td>\n",
              "    </tr>\n",
              "    <tr>\n",
              "      <th>4</th>\n",
              "      <td>4</td>\n",
              "      <td>KIRINYAGA</td>\n",
              "      <td>Urban</td>\n",
              "      <td>91.41</td>\n",
              "      <td>0.87</td>\n",
              "      <td>3.97</td>\n",
              "      <td>3.50</td>\n",
              "      <td>0.04</td>\n",
              "      <td>0.01</td>\n",
              "      <td>0.03</td>\n",
              "      <td>0.01</td>\n",
              "      <td>0.15</td>\n",
              "      <td>27461</td>\n",
              "      <td>25103</td>\n",
              "      <td>239</td>\n",
              "      <td>1090</td>\n",
              "      <td>960</td>\n",
              "      <td>11</td>\n",
              "      <td>3</td>\n",
              "      <td>9</td>\n",
              "      <td>4</td>\n",
              "      <td>42</td>\n",
              "      <td>Kirinyaga</td>\n",
              "      <td>Physical Infrastructure, Housing</td>\n",
              "      <td>CENTRAL</td>\n",
              "    </tr>\n",
              "  </tbody>\n",
              "</table>\n",
              "</div>"
            ],
            "text/plain": [
              "   Unnamed: 0         district  ...                              mtef  province\n",
              "0           0  NYANDARUA NORTH  ...  Physical Infrastructure, Housing   CENTRAL\n",
              "1           1  NYANDARUA SOUTH  ...  Physical Infrastructure, Housing   CENTRAL\n",
              "2           2      NYERI NORTH  ...  Physical Infrastructure, Housing   CENTRAL\n",
              "3           3      NYERI SOUTH  ...  Physical Infrastructure, Housing   CENTRAL\n",
              "4           4        KIRINYAGA  ...  Physical Infrastructure, Housing   CENTRAL\n",
              "\n",
              "[5 rows x 25 columns]"
            ]
          },
          "metadata": {
            "tags": []
          },
          "execution_count": 52
        }
      ]
    },
    {
      "cell_type": "markdown",
      "metadata": {
        "id": "p-_O-HF3N5-5",
        "colab_type": "text"
      },
      "source": [
        "VISUALIZATION"
      ]
    },
    {
      "cell_type": "code",
      "metadata": {
        "id": "UK9zpwvoOx0v",
        "colab_type": "code",
        "colab": {
          "base_uri": "https://localhost:8080/",
          "height": 173
        },
        "outputId": "5103cddd-d45e-4b0c-852b-1a1ed7744c8e"
      },
      "source": [
        "cleaned_df.columns"
      ],
      "execution_count": 53,
      "outputs": [
        {
          "output_type": "execute_result",
          "data": {
            "text/plain": [
              "Index(['Unnamed: 0', 'district', 'rural_urban',\n",
              "       'households_corrugated_iron_sheets', 'households_tiles',\n",
              "       'households_concrete', 'asbestos_households_sheets', 'households_grass',\n",
              "       'households_makuti', 'households_tin', 'households_mud_dung',\n",
              "       'households_other', 'households', 'no_corrugated_iron_sheets',\n",
              "       'no_tiles', 'no_concrete', 'no_asbestos_sheets', 'no_grass',\n",
              "       'no_makuti', 'no_tin', 'no_mud_dung', 'no_other', 'county', 'mtef',\n",
              "       'province'],\n",
              "      dtype='object')"
            ]
          },
          "metadata": {
            "tags": []
          },
          "execution_count": 53
        }
      ]
    },
    {
      "cell_type": "code",
      "metadata": {
        "id": "UqDr4iIyPQy-",
        "colab_type": "code",
        "colab": {}
      },
      "source": [
        "cleaned_df.iloc[]"
      ],
      "execution_count": 0,
      "outputs": []
    },
    {
      "cell_type": "code",
      "metadata": {
        "id": "gYYou-PiNY0Z",
        "colab_type": "code",
        "colab": {}
      },
      "source": [
        "grouped = cleaned_df.groupby('province')[['no_grass','no_tiles','no_concrete']].sum()"
      ],
      "execution_count": 0,
      "outputs": []
    },
    {
      "cell_type": "code",
      "metadata": {
        "id": "55-c0wbyPl4M",
        "colab_type": "code",
        "colab": {
          "base_uri": "https://localhost:8080/",
          "height": 325
        },
        "outputId": "e3cd72dc-fb5d-41fb-a1ea-8f4c6b66b292"
      },
      "source": [
        "grouped"
      ],
      "execution_count": 55,
      "outputs": [
        {
          "output_type": "execute_result",
          "data": {
            "text/html": [
              "<div>\n",
              "<style scoped>\n",
              "    .dataframe tbody tr th:only-of-type {\n",
              "        vertical-align: middle;\n",
              "    }\n",
              "\n",
              "    .dataframe tbody tr th {\n",
              "        vertical-align: top;\n",
              "    }\n",
              "\n",
              "    .dataframe thead th {\n",
              "        text-align: right;\n",
              "    }\n",
              "</style>\n",
              "<table border=\"1\" class=\"dataframe\">\n",
              "  <thead>\n",
              "    <tr style=\"text-align: right;\">\n",
              "      <th></th>\n",
              "      <th>no_grass</th>\n",
              "      <th>no_tiles</th>\n",
              "      <th>no_concrete</th>\n",
              "    </tr>\n",
              "    <tr>\n",
              "      <th>province</th>\n",
              "      <th></th>\n",
              "      <th></th>\n",
              "      <th></th>\n",
              "    </tr>\n",
              "  </thead>\n",
              "  <tbody>\n",
              "    <tr>\n",
              "      <th>CENTRAL</th>\n",
              "      <td>4169</td>\n",
              "      <td>22658</td>\n",
              "      <td>39270</td>\n",
              "    </tr>\n",
              "    <tr>\n",
              "      <th>COAST</th>\n",
              "      <td>61928</td>\n",
              "      <td>12931</td>\n",
              "      <td>31213</td>\n",
              "    </tr>\n",
              "    <tr>\n",
              "      <th>EASTERN</th>\n",
              "      <td>113702</td>\n",
              "      <td>12875</td>\n",
              "      <td>10579</td>\n",
              "    </tr>\n",
              "    <tr>\n",
              "      <th>NAIROBI</th>\n",
              "      <td>185</td>\n",
              "      <td>95617</td>\n",
              "      <td>208148</td>\n",
              "    </tr>\n",
              "    <tr>\n",
              "      <th>NORTH EASTERN</th>\n",
              "      <td>212867</td>\n",
              "      <td>1682</td>\n",
              "      <td>455</td>\n",
              "    </tr>\n",
              "    <tr>\n",
              "      <th>NYANZA</th>\n",
              "      <td>190006</td>\n",
              "      <td>9812</td>\n",
              "      <td>4797</td>\n",
              "    </tr>\n",
              "    <tr>\n",
              "      <th>RIFT VALLEY</th>\n",
              "      <td>413394</td>\n",
              "      <td>32928</td>\n",
              "      <td>15656</td>\n",
              "    </tr>\n",
              "    <tr>\n",
              "      <th>WESTERN</th>\n",
              "      <td>197959</td>\n",
              "      <td>5289</td>\n",
              "      <td>1261</td>\n",
              "    </tr>\n",
              "  </tbody>\n",
              "</table>\n",
              "</div>"
            ],
            "text/plain": [
              "               no_grass  no_tiles  no_concrete\n",
              "province                                      \n",
              "CENTRAL            4169     22658        39270\n",
              "COAST             61928     12931        31213\n",
              "EASTERN          113702     12875        10579\n",
              "NAIROBI             185     95617       208148\n",
              "NORTH EASTERN    212867      1682          455\n",
              "NYANZA           190006      9812         4797\n",
              "RIFT VALLEY      413394     32928        15656\n",
              "WESTERN          197959      5289         1261"
            ]
          },
          "metadata": {
            "tags": []
          },
          "execution_count": 55
        }
      ]
    },
    {
      "cell_type": "code",
      "metadata": {
        "id": "I4GBp36WPz6Y",
        "colab_type": "code",
        "colab": {
          "base_uri": "https://localhost:8080/",
          "height": 325
        },
        "outputId": "d4fad6e6-7c17-4117-97a4-2993a36b9b60"
      },
      "source": [
        "grouped.sort_values(by = 'no_grass',ascending = False)"
      ],
      "execution_count": 57,
      "outputs": [
        {
          "output_type": "execute_result",
          "data": {
            "text/html": [
              "<div>\n",
              "<style scoped>\n",
              "    .dataframe tbody tr th:only-of-type {\n",
              "        vertical-align: middle;\n",
              "    }\n",
              "\n",
              "    .dataframe tbody tr th {\n",
              "        vertical-align: top;\n",
              "    }\n",
              "\n",
              "    .dataframe thead th {\n",
              "        text-align: right;\n",
              "    }\n",
              "</style>\n",
              "<table border=\"1\" class=\"dataframe\">\n",
              "  <thead>\n",
              "    <tr style=\"text-align: right;\">\n",
              "      <th></th>\n",
              "      <th>no_grass</th>\n",
              "      <th>no_tiles</th>\n",
              "      <th>no_concrete</th>\n",
              "    </tr>\n",
              "    <tr>\n",
              "      <th>province</th>\n",
              "      <th></th>\n",
              "      <th></th>\n",
              "      <th></th>\n",
              "    </tr>\n",
              "  </thead>\n",
              "  <tbody>\n",
              "    <tr>\n",
              "      <th>RIFT VALLEY</th>\n",
              "      <td>413394</td>\n",
              "      <td>32928</td>\n",
              "      <td>15656</td>\n",
              "    </tr>\n",
              "    <tr>\n",
              "      <th>NORTH EASTERN</th>\n",
              "      <td>212867</td>\n",
              "      <td>1682</td>\n",
              "      <td>455</td>\n",
              "    </tr>\n",
              "    <tr>\n",
              "      <th>WESTERN</th>\n",
              "      <td>197959</td>\n",
              "      <td>5289</td>\n",
              "      <td>1261</td>\n",
              "    </tr>\n",
              "    <tr>\n",
              "      <th>NYANZA</th>\n",
              "      <td>190006</td>\n",
              "      <td>9812</td>\n",
              "      <td>4797</td>\n",
              "    </tr>\n",
              "    <tr>\n",
              "      <th>EASTERN</th>\n",
              "      <td>113702</td>\n",
              "      <td>12875</td>\n",
              "      <td>10579</td>\n",
              "    </tr>\n",
              "    <tr>\n",
              "      <th>COAST</th>\n",
              "      <td>61928</td>\n",
              "      <td>12931</td>\n",
              "      <td>31213</td>\n",
              "    </tr>\n",
              "    <tr>\n",
              "      <th>CENTRAL</th>\n",
              "      <td>4169</td>\n",
              "      <td>22658</td>\n",
              "      <td>39270</td>\n",
              "    </tr>\n",
              "    <tr>\n",
              "      <th>NAIROBI</th>\n",
              "      <td>185</td>\n",
              "      <td>95617</td>\n",
              "      <td>208148</td>\n",
              "    </tr>\n",
              "  </tbody>\n",
              "</table>\n",
              "</div>"
            ],
            "text/plain": [
              "               no_grass  no_tiles  no_concrete\n",
              "province                                      \n",
              "RIFT VALLEY      413394     32928        15656\n",
              "NORTH EASTERN    212867      1682          455\n",
              "WESTERN          197959      5289         1261\n",
              "NYANZA           190006      9812         4797\n",
              "EASTERN          113702     12875        10579\n",
              "COAST             61928     12931        31213\n",
              "CENTRAL            4169     22658        39270\n",
              "NAIROBI             185     95617       208148"
            ]
          },
          "metadata": {
            "tags": []
          },
          "execution_count": 57
        }
      ]
    },
    {
      "cell_type": "code",
      "metadata": {
        "id": "H0oVuZqMRNOd",
        "colab_type": "code",
        "colab": {
          "base_uri": "https://localhost:8080/",
          "height": 325
        },
        "outputId": "20403929-384f-42d5-fb4d-74bc62b412aa"
      },
      "source": [
        "grouped.sort_values(by = 'no_grass',ascending = True)"
      ],
      "execution_count": 58,
      "outputs": [
        {
          "output_type": "execute_result",
          "data": {
            "text/html": [
              "<div>\n",
              "<style scoped>\n",
              "    .dataframe tbody tr th:only-of-type {\n",
              "        vertical-align: middle;\n",
              "    }\n",
              "\n",
              "    .dataframe tbody tr th {\n",
              "        vertical-align: top;\n",
              "    }\n",
              "\n",
              "    .dataframe thead th {\n",
              "        text-align: right;\n",
              "    }\n",
              "</style>\n",
              "<table border=\"1\" class=\"dataframe\">\n",
              "  <thead>\n",
              "    <tr style=\"text-align: right;\">\n",
              "      <th></th>\n",
              "      <th>no_grass</th>\n",
              "      <th>no_tiles</th>\n",
              "      <th>no_concrete</th>\n",
              "    </tr>\n",
              "    <tr>\n",
              "      <th>province</th>\n",
              "      <th></th>\n",
              "      <th></th>\n",
              "      <th></th>\n",
              "    </tr>\n",
              "  </thead>\n",
              "  <tbody>\n",
              "    <tr>\n",
              "      <th>NAIROBI</th>\n",
              "      <td>185</td>\n",
              "      <td>95617</td>\n",
              "      <td>208148</td>\n",
              "    </tr>\n",
              "    <tr>\n",
              "      <th>CENTRAL</th>\n",
              "      <td>4169</td>\n",
              "      <td>22658</td>\n",
              "      <td>39270</td>\n",
              "    </tr>\n",
              "    <tr>\n",
              "      <th>COAST</th>\n",
              "      <td>61928</td>\n",
              "      <td>12931</td>\n",
              "      <td>31213</td>\n",
              "    </tr>\n",
              "    <tr>\n",
              "      <th>EASTERN</th>\n",
              "      <td>113702</td>\n",
              "      <td>12875</td>\n",
              "      <td>10579</td>\n",
              "    </tr>\n",
              "    <tr>\n",
              "      <th>NYANZA</th>\n",
              "      <td>190006</td>\n",
              "      <td>9812</td>\n",
              "      <td>4797</td>\n",
              "    </tr>\n",
              "    <tr>\n",
              "      <th>WESTERN</th>\n",
              "      <td>197959</td>\n",
              "      <td>5289</td>\n",
              "      <td>1261</td>\n",
              "    </tr>\n",
              "    <tr>\n",
              "      <th>NORTH EASTERN</th>\n",
              "      <td>212867</td>\n",
              "      <td>1682</td>\n",
              "      <td>455</td>\n",
              "    </tr>\n",
              "    <tr>\n",
              "      <th>RIFT VALLEY</th>\n",
              "      <td>413394</td>\n",
              "      <td>32928</td>\n",
              "      <td>15656</td>\n",
              "    </tr>\n",
              "  </tbody>\n",
              "</table>\n",
              "</div>"
            ],
            "text/plain": [
              "               no_grass  no_tiles  no_concrete\n",
              "province                                      \n",
              "NAIROBI             185     95617       208148\n",
              "CENTRAL            4169     22658        39270\n",
              "COAST             61928     12931        31213\n",
              "EASTERN          113702     12875        10579\n",
              "NYANZA           190006      9812         4797\n",
              "WESTERN          197959      5289         1261\n",
              "NORTH EASTERN    212867      1682          455\n",
              "RIFT VALLEY      413394     32928        15656"
            ]
          },
          "metadata": {
            "tags": []
          },
          "execution_count": 58
        }
      ]
    },
    {
      "cell_type": "code",
      "metadata": {
        "id": "uk-Q57ELR1u2",
        "colab_type": "code",
        "colab": {}
      },
      "source": [
        "import seaborn as sns\n",
        "import matplotlib.pyplot as plt\n",
        "\n"
      ],
      "execution_count": 0,
      "outputs": []
    },
    {
      "cell_type": "code",
      "metadata": {
        "id": "RVGpV6ZeSyer",
        "colab_type": "code",
        "colab": {
          "base_uri": "https://localhost:8080/",
          "height": 574
        },
        "outputId": "ebcfdd3d-5040-4468-adef-a7970729c1a6"
      },
      "source": [
        "grouped.plot(kind = 'bar',figsize=(12,8), logy = True)\n",
        "plt.title('Comparison of roofing materials across the provinces',color='maroon',fontsize=14)\n",
        "plt.xlabel('province',color='darkblue',fontsize=12)\n",
        "plt.ylabel('Number of roofing materials',color='darkblue',fontsize=10)\n",
        "plt.legend(['Grass','Tiles','Concrete'])\n",
        "plt.xticks(rotation = 45)\n",
        "plt.show()"
      ],
      "execution_count": 75,
      "outputs": [
        {
          "output_type": "display_data",
          "data": {
            "image/png": "[encoded data removed]",
            "text/plain": [
              "<Figure size 864x576 with 1 Axes>"
            ]
          },
          "metadata": {
            "tags": []
          }
        }
      ]
    },
    {
      "cell_type": "code",
      "metadata": {
        "id": "A51ZfmGcS5m9",
        "colab_type": "code",
        "colab": {}
      },
      "source": [
        ""
      ],
      "execution_count": 0,
      "outputs": []
    }
  ]
}